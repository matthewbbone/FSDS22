{
 "cells": [
  {
   "cell_type": "markdown",
   "id": "0f94b4d7-69b5-442b-a9e6-c6653fcb5aa3",
   "metadata": {},
   "source": [
    "# Fundamentals of Social Data Science \n",
    "\n",
    "Week 1. Day 1. Exercises from Chapter 1 of FSStDS \n",
    "\n",
    "Within your week 1 study pod discuss the following questions. Please submit an individual assignment by 12:30pm tomorrow, Tuesday October 11, 2022 on Canvas. \n",
    "\n",
    "These will not be marked and are solely for recordkeeping and review upon request. They will, however, be discussed in the Tuesday tutorial and briefing."
   ]
  },
  {
   "cell_type": "markdown",
   "id": "e2363fdd-b065-41b1-a4ab-7149223869c5",
   "metadata": {},
   "source": [
    "# Exercise 1. Data as operationalisation \n",
    "\n",
    "In the book we talk about data as being measurements from the world. The measurements represent phenomena but are not the phenomena themselves. To this end, we think of social data science as a 'science of the operationalisation of the social world'. Below are several key concepts about the world that we can operationalise in a variety of ways. For each of the concepts think of: \n",
    "1. A way that you can measure this concept in a survey. Is there a scale that people have used? Has this been mentioned in an academic paper? \n",
    "2. A question that you can ask someone in order to get a more indepth response about the topic.\n",
    "3. A set of data from a social media platform that might strongly predict with the measure, either directly or indirectly. Do you think that you could collect this data just by browsing or would you need to access this data in a more structured form?\n",
    "\n",
    "\n",
    "| Topic                      | Survey Q. | Interview Q. | Trace data |\n",
    "|----------------------------|-----------|--------------|------------|\n",
    "| 1. Number of close friends |           |              |            |\n",
    "| 2. Political affiliation   |           |              |            |\n",
    "| 3. Preferred social media  |           |              |            |\n",
    "\n"
   ]
  },
  {
   "cell_type": "markdown",
   "id": "9a69a33c-df9c-4221-af0c-2d469e4339a4",
   "metadata": {},
   "source": [
    "## Answer 1.\n",
    "\n",
    "Please fill in the table, either in the markdown or below just in text. \n",
    "\n",
    "As an optional challenge, think about looking online for sources where people have done any of these. Can you find at least one academic paper for each of the nine cells? \n",
    "\n",
    "__Answer below here:__ \n",
    "1. Number of close friends (as a survey Q, interview Q, and as trace data):\n",
    "    \n",
    "    a. Survey Q: [\"How many friends do you have?\"](https://www.researchgate.net/profile/Kiyoko-Kamibeppu/publication/7802997_Impact_of_the_Mobile_Phone_on_Junior_High-School_Students%27_Friendships_in_the_Tokyo_Metropolitan_Area/links/55ba16de08aec0e5f43e7a4a/Impact-of-the-Mobile-Phone-on-Junior-High-School-Students-Friendships-in-the-Tokyo-Metropolitan-Area.pdf)\n",
    "\n",
    "    b. Interview Q: [\"List up to 5 of your best friends\"](https://pure.uvt.nl/ws/portalfiles/portal/518378/SN_Kalmijn.pdf)\n",
    "\n",
    "    c. Trace Data: [\"Uses 72 measures from Facebook to predict closeness of friendships amongst random sample from 'Facebook Friends'\"](https://redirect.cs.umbc.edu/courses/graduate/CMSC691/spring22/pdf/1518701.1518736.pdf)\n",
    "\n",
    "2. Political affiliation (as a survey Q, interview Q, and as trace data):\n",
    "\n",
    "    a. Survey Q: [\"Liberal to Conservative on a numeric scale\"](https://digitalcommons.chapman.edu/cgi/viewcontent.cgi?article=1001&context=sociology_articles)\n",
    "\n",
    "    b. Interview Q: [\"Discussing or writing essays on personal political status and views\"](https://digitalcommons.unomaha.edu/cgi/viewcontent.cgi?article=1029&context=slceciviceng)\n",
    "\n",
    "    c. Trace Data: [\"Supervised learning classification in social networks\"](https://www.dhi.ac.uk/san/waysofbeing/data/economy-crone-colleoni-2014.pdf)\n",
    "\n",
    "3. Preferred social media (as a survey Q, interview Q, and as trace data):\n",
    "\n",
    "    a. Survey Q: [\"Social Media X is good for..., Social Media Y is good for ...\"](https://core.ac.uk/download/pdf/268003906.pdf), [\"Rank platform preference\"](https://www.researchgate.net/profile/Kristalyn-Gallagher/publication/327675994_Are_You_on_the_Right_Platform_A_Conjoint_Analysis_of_Social_Media_Preferences_in_Aesthetic_Surgery_Patients/links/5dc0c99c299bf1a47b154775/Are-You-on-the-Right-Platform-A-Conjoint-Analysis-of-Social-Media-Preferences-in-Aesthetic-Surgery-Patients.pdf)\n",
    "\n",
    "    b. Interview Q: \"What platforms do you prefer and what do you use each one for?\"\n",
    "\n",
    "    c. Trace Data: [\"Multi Platform LDA (latent dirichlet allocation, topic-modeling method)\"](https://ink.library.smu.edu.sg/cgi/viewcontent.cgi?article=4653&context=sis_research)\n",
    "\n",
    "In each of these examples, the survey and interview questions would be relatively straight forward to interpret but would require upfront administrative costs related to collecting survey results and conducting an interview. For all of these three topics, the Trace Data requires a rather sophisticated set of measures or analysis that make interpretation far more difficult than their interview/survey counterparts. I think surveys/interviews are more direct routes to the human-value centric phenomena we're looking to understand. Whereas trace data is information that encodes social data into a technical/operational context which we then have to re-interpret. The switching of contexts leads to some info loss in each transition.\n",
    "\n",
    "__Answer above here__"
   ]
  },
  {
   "cell_type": "markdown",
   "id": "6a1dee95-063d-4897-b610-88b8728ad320",
   "metadata": {},
   "source": [
    "# Exercise 2. FREE coding \n",
    "\n",
    "Take the following function and try to find a way to refactor it so that it can:\n",
    "1. [Be functioning] Give the right output with the right input (find the bug), \n",
    "2. [Be robust] Give a missing value with the wrong input (what if we sent it a number?), \n",
    "3. [Be elegant] Have less repetition (can we simply the `elif` statements)?, \n",
    "4. [Be efficient] Use a more efficient algorithm (did the last line take care of all the inefficiencies?)\n",
    "\n",
    "*Challenge*: The function takes a string and returns only vowels. That means `\"y\"` is an edge case. What will you do with it? The most sophisticated NLP packages might know which `\"y\"` is a vowel. Do we need to go that far? Can we warn people or somehow use a parameter for an option to include or exclude `\"y\"`?"
   ]
  },
  {
   "cell_type": "code",
   "execution_count": 94,
   "id": "bab7acdc-1f7e-4708-8d99-cc1ca0ff1bc3",
   "metadata": {},
   "outputs": [
    {
     "name": "stdout",
     "output_type": "stream",
     "text": [
      "The quick brown fox jumped over the lazy dog\n",
      "It was the best of times, it was the blurst of times.\n",
      "A stitch in time saves 9\n",
      "CPU times: user 30 µs, sys: 2 µs, total: 32 µs\n",
      "Wall time: 33.9 µs\n"
     ]
    }
   ],
   "source": [
    "%%time\n",
    "\n",
    "def return_only_vowels(text):\n",
    "    newtext = \"\"\n",
    "    for letter in text: \n",
    "        if letter == 'a':\n",
    "            newtext += letter\n",
    "        elif letter == 'e':\n",
    "            newtext += letter\n",
    "        elif letter == 'i':\n",
    "            newtext += letter\n",
    "        elif letter == 'o':\n",
    "            newtext += letter\n",
    "        elif letter == 'u':\n",
    "            newtext += letter\n",
    "        \n",
    "    return text\n",
    "\n",
    "text1 = \"The quick brown fox jumped over the lazy dog\"\n",
    "text2 = \"It was the best of times, it was the blurst of times.\"\n",
    "text3 = \"A stitch in time saves 9\"\n",
    "\n",
    "result_list = []\n",
    "for text in [text1, text2, text3]:\n",
    "    result_list.append(return_only_vowels(text))\n",
    "\n",
    "for result in result_list: \n",
    "    print(result)"
   ]
  },
  {
   "cell_type": "markdown",
   "id": "9560e31f-b00f-4130-a52a-fdad242d30c1",
   "metadata": {},
   "source": [
    "## Answer 2. \n",
    "\n",
    "Below try to rewrite the function and the inputs so that it runs faster, returns the right text, handles bad input gracefully, and reads a little better: "
   ]
  },
  {
   "cell_type": "code",
   "execution_count": 95,
   "id": "d2af7234",
   "metadata": {},
   "outputs": [],
   "source": [
    "import re"
   ]
  },
  {
   "cell_type": "code",
   "execution_count": 96,
   "id": "2dc7bf78",
   "metadata": {},
   "outputs": [
    {
     "name": "stdout",
     "output_type": "stream",
     "text": [
      "2.96 µs ± 186 ns per loop (mean ± std. dev. of 7 runs, 1,000 loops each)\n"
     ]
    }
   ],
   "source": [
    "%timeit -n 1000 return_only_vowels(text1)"
   ]
  },
  {
   "cell_type": "code",
   "execution_count": 97,
   "id": "2752d838-de79-48c9-8af3-7d648eaba757",
   "metadata": {},
   "outputs": [],
   "source": [
    "def return_only_vowels_regex(text, includeY = False):\n",
    "\n",
    "    vowels = '[^aeiouyAEIOUY]' if includeY else '[^aeiouAEIOU]'\n",
    "\n",
    "    if type(text)==  str:\n",
    "        return re.sub(vowels, '', text)\n",
    "    else: return None\n",
    "\n",
    "assert return_only_vowels_regex(text1) == 'euiooueoeeao'\n",
    "assert return_only_vowels_regex(text2) == 'Iaeeoieiaeuoie'\n",
    "assert return_only_vowels_regex(text3) == 'Aiiieae'\n",
    "\n",
    "assert return_only_vowels_regex(text1, includeY = True) == 'euiooueoeeayo'\n",
    "assert return_only_vowels_regex(text2, includeY = True) == 'Iaeeoieiaeuoie'\n",
    "assert return_only_vowels_regex(text3, includeY = True) == 'Aiiieae'\n",
    "\n",
    "assert return_only_vowels_regex(10) is None\n"
   ]
  },
  {
   "cell_type": "code",
   "execution_count": 98,
   "id": "046d8517",
   "metadata": {},
   "outputs": [
    {
     "name": "stdout",
     "output_type": "stream",
     "text": [
      "2.9 µs ± 148 ns per loop (mean ± std. dev. of 7 runs, 1,000 loops each)\n"
     ]
    }
   ],
   "source": [
    "%timeit -n 1000 return_only_vowels_regex(text1)"
   ]
  },
  {
   "cell_type": "code",
   "execution_count": 99,
   "id": "c1adc35d",
   "metadata": {},
   "outputs": [],
   "source": [
    "def return_only_vowels_list(text, includeY = False):\n",
    "\n",
    "    vowels = 'aeiouyAEIOUY' if includeY else 'aeiouAEIOU'\n",
    "\n",
    "    if type(text)==  str:\n",
    "        return ''.join([letter if letter in vowels else '' for letter in text])\n",
    "    else: return None"
   ]
  },
  {
   "cell_type": "code",
   "execution_count": 100,
   "id": "55a077c4",
   "metadata": {},
   "outputs": [
    {
     "name": "stdout",
     "output_type": "stream",
     "text": [
      "1.93 µs ± 87.2 ns per loop (mean ± std. dev. of 7 runs, 1,000 loops each)\n"
     ]
    }
   ],
   "source": [
    "%timeit -n 1000 return_only_vowels_list(text1)"
   ]
  },
  {
   "cell_type": "markdown",
   "id": "ae7b34f9",
   "metadata": {},
   "source": [
    "My first approach was to use a regex and replace all non-vowels with an empty string but that took approximately the same time as the first function. My group suggested just iterating through a string of vowels which ended up being faster and probably easier to understand. "
   ]
  },
  {
   "cell_type": "markdown",
   "id": "ab98124f-b376-4771-82ae-0f276a0a4aaf",
   "metadata": {},
   "source": [
    "# Exercise 3. Pseudocode\n",
    "\n",
    "Pseudocode a recipe for making a pizza! It should have a dough base, a sauce, and two toppings. No worries about making it more complicated even if a great pizza can be an art. \n",
    "\n",
    "Some questions: \n",
    "1. Will you ask the user for what toppings they want?\n",
    "2. What assumptions will you make about the ingredients? That is, will you assume they are already cooked or otherwise prepared? \n",
    "3. What assumptions will you make about the pizza oven? "
   ]
  },
  {
   "cell_type": "markdown",
   "id": "625a38a4-ea7b-4559-a67a-411b1431a872",
   "metadata": {},
   "source": [
    "## Answer 3. \n",
    "\n",
    "Below write the pseudocode. Share it with a friend of yours and ask: do you think they would make the same pizza as you with these instructions? What might vary? \n",
    "\n",
    "__Answer below here__: \n",
    "\n",
    "    class Pizza:\n",
    "\n",
    "        def __init__(self):\n",
    "\n",
    "            self.dough\n",
    "            self.roundness\n",
    "\n",
    "        def toss(self):\n",
    "            self.roundness =+ 1\n",
    "\n",
    "        def stretchDough(self):\n",
    "\n",
    "            round = False\n",
    "\n",
    "            while(self.roundness < 10):\n",
    "                self.toss():\n",
    "\n",
    "        def addGarlicButter(self):\n",
    "            garlicButter = getGarlicButter()\n",
    "            slather(self.dough, garlicButter)\n",
    "        \n",
    "        def addSauce(self, sauce):\n",
    "            slather(self.dough, sauce)\n",
    "\n",
    "        def addToppings(self, toppings):\n",
    "\n",
    "            for topping in toppings:\n",
    "                cover(self.dough, topping)\n",
    "\n",
    "        def cook(self):\n",
    "            pizzaOnPaddle = onPaddle(self.dough)\n",
    "            inFire(pizzaOnPaddle)\n",
    "            time.wait(900)\n",
    "            outFire(pizzaOnPaddle)\n",
    "\n",
    "        def serve(self):\n",
    "\n",
    "            chefsKiss()\n",
    "            sayPerfetto()\n",
    "            giveToCustomer()\n",
    "\n",
    "\n",
    "    def make_me_pizza(dough = \"Plain\", sauce = \"Marinara\", toppings = [\"Cheese\", \"Pepporoni\"]):\n",
    "\n",
    "        pizza = new Pizza()\n",
    "        pizza.stretchDough()\n",
    "\n",
    "        if dough == \"Garlic\": pizza.addGarlicButter()\n",
    "\n",
    "        pizza.addSauce(sauce)\n",
    "        pizza.addToppings(toppings)\n",
    "        pizza.cook()\n",
    "        pizza.serve()\n",
    "\n",
    "\n",
    "__Answer above here__"
   ]
  },
  {
   "cell_type": "markdown",
   "id": "4f475de2-168b-4c65-8d34-a5a082f42f5f",
   "metadata": {},
   "source": [
    "# Exercise 4. What data is available for whom? \n",
    "\n",
    "Jeremy Singer-Vine has been compiling a list of really interesting data sets for several years. He shares these via his mailing list \"data is plural\". The most recent version of this list is available [here on Google Sheets](https://docs.google.com/spreadsheets/d/1wZhPLMCHKJvwOkP4juclhjFgqIY8fQFMemwKL2c64vk/edit#gid=0). \n",
    "\n",
    "Browse through this list of data sets. Below are some questions to ask of any given row signifying a data set:\n",
    "\n",
    "A. By viewing the summary of the data, give an example of a distribution that could be stored and summarised.\n",
    "\n",
    "B. With this data, what is excluded? \n",
    "  - Would certain cases or classes of people/things be excluded that could be considered? \n",
    "  - Would other data about the existing cases could be useful or interesting? \n",
    "  - Could we merge in data to compensate or would we need to do a separate data collection effort?\n",
    "  - Would accessing this data be ethically reasonable for academic research?"
   ]
  },
  {
   "cell_type": "markdown",
   "id": "d44571bc-6f94-431c-812b-6dd1e22fd95e",
   "metadata": {},
   "source": [
    "## Answer 4. \n",
    "\n",
    "Please select a data set and answer the questions above. \n",
    "\n",
    "__Answer below here__:\n",
    "\n",
    "    From Cornell's \"Movie Chatter\" data (row 81), one could collect the list of 9,035 character names that belong to the list of movie conversations. \n",
    "\n",
    "        1. One likely bias of this dataset is that it will over represent male characters as the famous Bechdel test has been used in the past to show the concerning lack of dialogue between women (that's not about men). While it's possible that there are many conversations between women about men in this dataset as well, it's likely that there are more men than women characters with dialogue in movie's. \n",
    "        2. Additional data about the characters could include the name of the actor/actress that played them. That could be used to analyze which actors/actresses get the most dialogue within the corpus. \n",
    "        3. In this case, we would have to separately collect data in order to get actor/actress names. This could potentially be webscraped from IMDB or a possible database from the Academy.\n",
    "        4. I think accessing this data would be entirely ethical as it's all public information and the actors/actresses have already chosen to put their names and likeness into the public sphere.\n",
    "\n",
    "__Answer above here__"
   ]
  }
 ],
 "metadata": {
  "kernelspec": {
   "display_name": "Python 3.10.5 64-bit",
   "language": "python",
   "name": "python3"
  },
  "language_info": {
   "codemirror_mode": {
    "name": "ipython",
    "version": 3
   },
   "file_extension": ".py",
   "mimetype": "text/x-python",
   "name": "python",
   "nbconvert_exporter": "python",
   "pygments_lexer": "ipython3",
   "version": "3.10.5"
  },
  "vscode": {
   "interpreter": {
    "hash": "aee8b7b246df8f9039afb4144a1f6fd8d2ca17a180786b69acc140d282b71a49"
   }
  }
 },
 "nbformat": 4,
 "nbformat_minor": 5
}
