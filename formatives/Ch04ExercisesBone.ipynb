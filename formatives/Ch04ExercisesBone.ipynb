{
 "cells": [
  {
   "cell_type": "markdown",
   "id": "eb9d7bac-c8a9-4221-9d42-0b91d8f05a00",
   "metadata": {
    "tags": []
   },
   "source": [
    "# Week 2. Day 1. Exercises from Chapter 4 of FSStDS. \n",
    "## Fundamentals of Social Data Science. MT 2022\n",
    "\n",
    "Within your study pod discuss the following questions. Please submit an individual assignment by 12:30pm Tuesday, October 18, 2022 on Canvas. "
   ]
  },
  {
   "cell_type": "markdown",
   "id": "0803932b-ef93-4423-970d-fd1d20f5c82a",
   "metadata": {},
   "source": [
    "# Exercise 1. Creating a DataFrame from multiple JSON files\n",
    "\n",
    "There are nine pages of search results for Oxford from OMDB (as of last year; `omdb_Oxford_search_page_\\*.json`). \n",
    "\n",
    "**Exercise 1a.** Create a single DataFrame from these 9 files.\n",
    "\n",
    "**Exercise 1b.** Report on the oldest and most recent entry. \n",
    "\n",
    "- **Hint**. To read all files from a Path object with a wildcard use the 'glob' method, such as: `for path in data_dir.blog(\"omdb_Oxford*.json\"): path.do_something()`\n",
    "\n",
    "- **Challenge** - Note that shows that span years are written with the two years separated by `--`. So ensure that you split this and then consider these years when reporting the oldest and newest entries. \n"
   ]
  },
  {
   "cell_type": "code",
   "execution_count": 7,
   "id": "5964f5b7-64a6-4bf6-b331-b38c7e4e90f2",
   "metadata": {},
   "outputs": [],
   "source": [
    "# Exercise 1a answer below here \n",
    "\n",
    "\n",
    "# Exercise 1a answer above here"
   ]
  },
  {
   "cell_type": "code",
   "execution_count": 8,
   "id": "6da13185-3935-4c3b-b45b-12605ff78a07",
   "metadata": {},
   "outputs": [],
   "source": [
    "# Exercise 1b answer below here \n",
    "\n",
    "\n",
    "# Exercise 1b answer above here"
   ]
  },
  {
   "cell_type": "markdown",
   "id": "f7ed32db-97d9-4a31-9622-b1a654dd79d6",
   "metadata": {},
   "source": [
    "# Exercise 2. Navigate Reddit JSON \n",
    "\n",
    "Go to a page on reddit and then replace www.reddit with api.reddit. This will then give the page as JSON. Do this for a specific subreddit of interest (such as cats, cryptocurrency, mediasynthesis, ukpolitics, etc...). \n",
    "\n",
    "This json will likely only have 25-26 entries. Normalise by data so that each story has a single line. This will have many, many columns. One of these columns will be the title of the headline and one will be the URL. \n",
    "\n",
    "- **Exercise 2a**. Find these two columns and then create a smaller DataFrame that just has these columns as well as the one for upvote score (`ups`).  \n",
    "\n",
    "- **Exercise 2b**. What are the most common words across all titles? Does it matter if you use lower case and remove punctuation as we did last week? \n",
    "\n",
    "- **Exercise 2c**. What domain names are the most common?\n",
    "\n",
    "> **Hint**: If you aren't having luck with saving your own JSON, you can use the old `environment.json` that is appended with the data. \n",
    "\n",
    "> **Hint**: Parsing domain names can be a nuisance. Here is a a small snippet that can help: "
   ]
  },
  {
   "cell_type": "code",
   "execution_count": 4,
   "id": "750c3cb3-1f0c-41f9-b9c9-32ee0d180e0f",
   "metadata": {},
   "outputs": [
    {
     "name": "stdout",
     "output_type": "stream",
     "text": [
      "ParseResult(scheme='http', netloc='www.nytimes.com', path='/somestory.html', params='', query='', fragment='')\n"
     ]
    }
   ],
   "source": [
    "# See: https://docs.python.org/3/library/urllib.parse.html\n",
    "# For example:\n",
    "from urllib.parse import urlparse\n",
    "result = urlparse(\"http://www.nytimes.com/somestory.html\")\n",
    "print(result) # Which item is the domain name? "
   ]
  },
  {
   "cell_type": "code",
   "execution_count": null,
   "id": "cad7d8ff-ebcb-4c8f-a4bc-33ea9a7bc810",
   "metadata": {},
   "outputs": [],
   "source": [
    "# Exercise 2a Answer below here \n",
    "\n",
    "\n",
    "# Exercise 2a Answer above here "
   ]
  },
  {
   "cell_type": "code",
   "execution_count": null,
   "id": "f567c630-eb57-4a00-b683-4095b33903b3",
   "metadata": {},
   "outputs": [],
   "source": [
    "# Exercise 2b Answer below here \n",
    "\n",
    "\n",
    "# Exercise 2b Answer above here "
   ]
  },
  {
   "cell_type": "code",
   "execution_count": 5,
   "id": "71d9d55f-93d0-417d-923e-f9ea61353061",
   "metadata": {},
   "outputs": [],
   "source": [
    "# Exercise 2c Answer below here \n",
    "\n",
    "\n",
    "# Exercise 2c Answer above here "
   ]
  },
  {
   "cell_type": "markdown",
   "id": "7f3b17f7-d9b2-40ff-b569-7a5184786f44",
   "metadata": {},
   "source": [
    "# Exercise 3. The love-hate relationship with DIKW\n",
    "\n",
    "As mentioned in the chapter, the Wikipedia entry for data had DIKW in the article, then it was removed, then it reappared! I think it is still there now. I did not do the editing of this. \n",
    "\n",
    "With the data export of the Wikipedia page on data (`Wikipedia - data - Special export - 2022-10-17_10_24_15.xml`): \n",
    "\n",
    "- **Exercise 3a**. Create a DataFrame where each revision of the Wikipedia article in the export is given its own row. \n",
    "- **Exercise 3b**. Search for the first time DIKW was mentioned and the last time it was mentioned. Try to find the gap? When did it appear? \n",
    "\n",
    "> **Hint**: Using `xmltodict` might be helpful for wrangling the XML data, but it might also make life complicated. Explore the data both through a text editor (or browser) and through code to get a sense of it. \n",
    "\n",
    "> **Hint**: It is admittedly a little easier to do this if you make use of time in your DataFrame. We do not cover that much until Chapter 10, but feel free to look ahead. You can still sort by revisionID and then just browse the data yourself. This will end up being one of those tasks that's not easy but gets easier with more skills of abstraction.  "
   ]
  },
  {
   "cell_type": "code",
   "execution_count": null,
   "id": "544c55c4-5f10-4992-b11d-795d5eda84f0",
   "metadata": {},
   "outputs": [],
   "source": [
    "# Exercise 3a Answer below here\n",
    "\n",
    "\n",
    "# EXercise 3a Answer above here"
   ]
  },
  {
   "cell_type": "code",
   "execution_count": 6,
   "id": "fb4d4201-a466-4fe1-9e35-0a29c43cd795",
   "metadata": {},
   "outputs": [],
   "source": [
    "# Exercise 3b Answer below here\n",
    "\n",
    "\n",
    "# EXercise 3b Answer above here"
   ]
  }
 ],
 "metadata": {
  "kernelspec": {
   "display_name": "Python 3 (ipykernel)",
   "language": "python",
   "name": "python3"
  },
  "language_info": {
   "codemirror_mode": {
    "name": "ipython",
    "version": 3
   },
   "file_extension": ".py",
   "mimetype": "text/x-python",
   "name": "python",
   "nbconvert_exporter": "python",
   "pygments_lexer": "ipython3",
   "version": "3.9.7"
  }
 },
 "nbformat": 4,
 "nbformat_minor": 5
}
