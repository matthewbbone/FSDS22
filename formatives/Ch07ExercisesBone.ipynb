{
 "cells": [
  {
   "cell_type": "markdown",
   "id": "911e631a-74e8-44d7-861b-5686cf7941d3",
   "metadata": {
    "tags": []
   },
   "source": [
    "# Week 3. Day 1. Exercises from Chapter 7 of FSStDS. \n",
    "## Fundamentals of Social Data Science. MT 2022\n",
    "\n",
    "Within your NEW study pod discuss the following questions. Please submit an individual assignment by 12:30pm Tuesday, October 25, 2022 on Canvas. "
   ]
  },
  {
   "cell_type": "markdown",
   "id": "bd02f81c-adaa-43e9-9978-1b303f44e1c6",
   "metadata": {},
   "source": [
    "# Exercise 1. How busy is twitter now? \n",
    "\n",
    "Using the `counts` endpoint, compare the chatter around three British politicians, Penny Mordunt, Rishi Sunak, and Boris Johnson. Use the name of the politicians in separate queries:\n",
    "1. Which politician had the most mentions overall?\n",
    "2. For each politician, what was the hour of pean mentions? Was it the same for each person? "
   ]
  },
  {
   "cell_type": "code",
   "execution_count": 3,
   "id": "6610c567-3d61-4842-a6bd-240102b14edd",
   "metadata": {},
   "outputs": [],
   "source": [
    "# Answer 1 below here\n",
    "\n",
    "\n",
    "\n",
    "# Answer 1 above here"
   ]
  },
  {
   "cell_type": "markdown",
   "id": "d1fea753-eb5d-488d-84ec-5c6b147b9228",
   "metadata": {},
   "source": [
    "# Exercise 2. Tweets across the world\n",
    "\n",
    "Select a query to download 100 tweets. Include the locations entities. Can you find a query where no single country makes up more than 50% of the locations? How can you automate this using a bank of queries? "
   ]
  },
  {
   "cell_type": "code",
   "execution_count": 2,
   "id": "ad2fd6f0-50db-4cd7-a1e2-25efab17dab2",
   "metadata": {},
   "outputs": [],
   "source": [
    "# Answer 2 below here \n",
    "\n",
    "\n",
    "\n",
    "# Answer 2 above here"
   ]
  },
  {
   "cell_type": "markdown",
   "id": "9043fb63-ce8b-4cc3-ab76-074ac13cbc8e",
   "metadata": {},
   "source": [
    "# Exercise 3. Comparing `praw` and `psaw`\n",
    "\n",
    "Reddit mods have considerable power over their subreddits. In /r/Science they are notoriously aggressive in their deletion of non-scientific comments. \n",
    "\n",
    "PushShift is an archive of reddit data. You can access this archive using `psaw` which is otherwise very similar to `praw`. Go to /r/science and select a story that over two days old. Compare the comments that you receive from `praw` and `psaw`. Do they have similar: \n",
    "- counts of comments?\n",
    "- counts of comments marked deleted?\n",
    "- upvote scores on the comments? \n",
    "\n",
    "Posit what might account for the difference. Reflect on how this could intervene in making claims about activity on Reddit."
   ]
  },
  {
   "cell_type": "code",
   "execution_count": 5,
   "id": "2926da7a-6a8e-4ced-b82f-8217171e4f8a",
   "metadata": {},
   "outputs": [],
   "source": [
    "# Exercise 3 code part below here\n",
    "\n",
    "\n",
    "\n",
    "\n",
    "# Exercise 3 code part above here"
   ]
  },
  {
   "cell_type": "markdown",
   "id": "3704ffdc-d879-4b41-b66f-cc1ace0d0f39",
   "metadata": {},
   "source": [
    "## Exercise 3 reflections below here \n",
    "\n",
    "\n",
    "\n",
    "## Exercise 3 reflections above here"
   ]
  },
  {
   "cell_type": "markdown",
   "id": "534237ab-618f-40bb-becf-8d28d1c43367",
   "metadata": {},
   "source": [
    "# Exercise 4 - Comparing comments \n",
    "(in case PushShift isn't working for you)\n",
    "\n",
    "People can submit the same link to multiple subreddits. You can find out where else a link was submitted on Reddit by xx. \n",
    "\n",
    "Select a story that has been submitted to at least two subreddits. Compare the comments for each of these:\n",
    "- Which subreddit has more comments? Would this have been unexpected? Why?\n",
    "- Are there any overlap in the users who comment on these stories across the multiple subreddits?\n",
    "- Summarise the scores of the comments versus the story (`data.ups`). Is the ratio of the top comment score to the ups the same? \n",
    "- Which story has more comments that have a score below zero? As a percentage? \n"
   ]
  },
  {
   "cell_type": "code",
   "execution_count": 8,
   "id": "7206724d-527c-4999-98da-fab9707fe13c",
   "metadata": {},
   "outputs": [],
   "source": [
    "# Exercise 4 below here\n",
    "\n",
    "\n",
    "\n",
    "# Exercise 4 above here"
   ]
  }
 ],
 "metadata": {
  "kernelspec": {
   "display_name": "Python 3.9.13 ('fsd22env': venv)",
   "language": "python",
   "name": "python3"
  },
  "language_info": {
   "codemirror_mode": {
    "name": "ipython",
    "version": 3
   },
   "file_extension": ".py",
   "mimetype": "text/x-python",
   "name": "python",
   "nbconvert_exporter": "python",
   "pygments_lexer": "ipython3",
   "version": "3.9.13"
  },
  "toc-autonumbering": false,
  "vscode": {
   "interpreter": {
    "hash": "72ab57b0b5f2fd64aef2c7b60b3862b1a450b7cb33941b7430bf767e797b1ae3"
   }
  }
 },
 "nbformat": 4,
 "nbformat_minor": 5
}
