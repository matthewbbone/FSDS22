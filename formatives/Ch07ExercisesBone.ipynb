{
 "cells": [
  {
   "cell_type": "markdown",
   "id": "911e631a-74e8-44d7-861b-5686cf7941d3",
   "metadata": {
    "tags": []
   },
   "source": [
    "# Week 3. Day 1. Exercises from Chapter 7 of FSStDS. \n",
    "## Fundamentals of Social Data Science. MT 2022\n",
    "\n",
    "Within your NEW study pod discuss the following questions. Please submit an individual assignment by 12:30pm Tuesday, October 25, 2022 on Canvas. "
   ]
  },
  {
   "cell_type": "markdown",
   "id": "bd02f81c-adaa-43e9-9978-1b303f44e1c6",
   "metadata": {},
   "source": [
    "# Exercise 1. How busy is twitter now? \n",
    "\n",
    "Using the `counts` endpoint, compare the chatter around three British politicians, Penny Mordunt, Rishi Sunak, and Boris Johnson. Use the name of the politicians in separate queries:\n",
    "1. Which politician had the most mentions overall?\n",
    "2. For each politician, what was the hour of pean mentions? Was it the same for each person? "
   ]
  },
  {
   "cell_type": "code",
   "execution_count": 39,
   "id": "7cb01a60",
   "metadata": {},
   "outputs": [
    {
     "name": "stderr",
     "output_type": "stream",
     "text": [
      "[nltk_data] Downloading package vader_lexicon to\n",
      "[nltk_data]     /Users/matthewbone/nltk_data...\n",
      "[nltk_data]   Package vader_lexicon is already up-to-date!\n"
     ]
    },
    {
     "data": {
      "text/plain": [
       "True"
      ]
     },
     "execution_count": 39,
     "metadata": {},
     "output_type": "execute_result"
    }
   ],
   "source": [
    "import pandas as pd\n",
    "import numpy as np\n",
    "import requests as req\n",
    "import json\n",
    "import datetime as dt\n",
    "import math \n",
    "import matplotlib.pyplot as plt\n",
    "import re\n",
    "import praw\n",
    "from psaw import PushshiftAPI\n",
    "import dotenv\n",
    "config = dotenv.dotenv_values(\"../.env\")\n",
    "\n",
    "from nltk.sentiment import SentimentIntensityAnalyzer\n",
    "from nltk.downloader import download\n",
    "download(\"vader_lexicon\")"
   ]
  },
  {
   "cell_type": "code",
   "execution_count": 8,
   "id": "6610c567-3d61-4842-a6bd-240102b14edd",
   "metadata": {},
   "outputs": [
    {
     "data": {
      "text/html": [
       "<div>\n",
       "<style scoped>\n",
       "    .dataframe tbody tr th:only-of-type {\n",
       "        vertical-align: middle;\n",
       "    }\n",
       "\n",
       "    .dataframe tbody tr th {\n",
       "        vertical-align: top;\n",
       "    }\n",
       "\n",
       "    .dataframe thead th {\n",
       "        text-align: right;\n",
       "    }\n",
       "</style>\n",
       "<table border=\"1\" class=\"dataframe\">\n",
       "  <thead>\n",
       "    <tr style=\"text-align: right;\">\n",
       "      <th></th>\n",
       "      <th>end</th>\n",
       "      <th>start</th>\n",
       "      <th>tweet_count</th>\n",
       "      <th>politician</th>\n",
       "      <th>total</th>\n",
       "    </tr>\n",
       "  </thead>\n",
       "  <tbody>\n",
       "    <tr>\n",
       "      <th>13</th>\n",
       "      <td>2022-10-24T14:00:00.000Z</td>\n",
       "      <td>2022-10-24T13:00:00.000Z</td>\n",
       "      <td>1052</td>\n",
       "      <td>Lettuce</td>\n",
       "      <td>14697</td>\n",
       "    </tr>\n",
       "    <tr>\n",
       "      <th>13</th>\n",
       "      <td>2022-10-24T14:00:00.000Z</td>\n",
       "      <td>2022-10-24T13:00:00.000Z</td>\n",
       "      <td>8262</td>\n",
       "      <td>Liz Truss</td>\n",
       "      <td>75093</td>\n",
       "    </tr>\n",
       "    <tr>\n",
       "      <th>7</th>\n",
       "      <td>2022-10-24T08:00:00.000Z</td>\n",
       "      <td>2022-10-24T07:00:00.000Z</td>\n",
       "      <td>9906</td>\n",
       "      <td>Boris Johnson</td>\n",
       "      <td>145214</td>\n",
       "    </tr>\n",
       "    <tr>\n",
       "      <th>13</th>\n",
       "      <td>2022-10-24T14:00:00.000Z</td>\n",
       "      <td>2022-10-24T13:00:00.000Z</td>\n",
       "      <td>13941</td>\n",
       "      <td>Penny Mordaunt</td>\n",
       "      <td>43672</td>\n",
       "    </tr>\n",
       "    <tr>\n",
       "      <th>13</th>\n",
       "      <td>2022-10-24T14:00:00.000Z</td>\n",
       "      <td>2022-10-24T13:00:00.000Z</td>\n",
       "      <td>91424</td>\n",
       "      <td>Rishi Sunak</td>\n",
       "      <td>687219</td>\n",
       "    </tr>\n",
       "  </tbody>\n",
       "</table>\n",
       "</div>"
      ],
      "text/plain": [
       "                         end                     start  tweet_count  \\\n",
       "13  2022-10-24T14:00:00.000Z  2022-10-24T13:00:00.000Z         1052   \n",
       "13  2022-10-24T14:00:00.000Z  2022-10-24T13:00:00.000Z         8262   \n",
       "7   2022-10-24T08:00:00.000Z  2022-10-24T07:00:00.000Z         9906   \n",
       "13  2022-10-24T14:00:00.000Z  2022-10-24T13:00:00.000Z        13941   \n",
       "13  2022-10-24T14:00:00.000Z  2022-10-24T13:00:00.000Z        91424   \n",
       "\n",
       "        politician   total  \n",
       "13         Lettuce   14697  \n",
       "13       Liz Truss   75093  \n",
       "7    Boris Johnson  145214  \n",
       "13  Penny Mordaunt   43672  \n",
       "13     Rishi Sunak  687219  "
      ]
     },
     "metadata": {},
     "output_type": "display_data"
    },
    {
     "name": "stdout",
     "output_type": "stream",
     "text": [
      "Rishi Sunak has the most mentions with 687219\n",
      "\n",
      "Lettuce's peak tweet mention hour was at 13:00\n",
      "Liz Truss's peak tweet mention hour was at 13:00\n",
      "Boris Johnson's peak tweet mention hour was at 07:00\n",
      "Penny Mordaunt's peak tweet mention hour was at 13:00\n",
      "Rishi Sunak's peak tweet mention hour was at 13:00\n",
      "The peak hours were the same for everyone except for Boris Johnson\n"
     ]
    }
   ],
   "source": [
    "# Answer 1 below here\n",
    "url = 'https://api.twitter.com/2/tweets/counts/recent'\n",
    "\n",
    "BEARER = config['TWITTER_BEARER_TOKEN']\n",
    "headers = {\"Authorization\": f\"Bearer {BEARER}\"}\n",
    "\n",
    "poli_df = pd.DataFrame()\n",
    "for poli in ['Penny Mordaunt', 'Rishi Sunak', 'Boris Johnson', 'Liz Truss', 'Lettuce']:\n",
    "\n",
    "    params = {\n",
    "        'query': poli,\n",
    "        'granularity': 'hour',\n",
    "        'start_time': '2022-10-24T00:00:00.000Z'\n",
    "    }\n",
    "\n",
    "    res = json.loads(req.get(url, headers=headers, params=params).content)\n",
    "    temp_df = pd.DataFrame(res['data'])\n",
    "    temp_df['politician'] = poli\n",
    "    temp_df['total'] = res['meta']['total_tweet_count']\n",
    "    poli_df = pd.concat([poli_df, temp_df])\n",
    "    \n",
    "mentions_df = poli_df.sort_values('tweet_count').groupby('politician').tail(1)\n",
    "display(mentions_df)\n",
    "print(f\"{mentions_df.sort_values('total').tail(1).iloc[0,3]} has the most mentions with {mentions_df.sort_values('total').tail(1).iloc[0,4]}\", end = '\\n\\n')\n",
    "\n",
    "for i in range(len(mentions_df)):\n",
    "    print(f\"{mentions_df.iloc[i, 3]}'s peak tweet mention hour was at {mentions_df.iloc[i, 1][11:-8]}\")\n",
    "\n",
    "print('The peak hours were the same for everyone except for Boris Johnson')\n",
    "\n",
    "# Answer 1 above here\n"
   ]
  },
  {
   "cell_type": "markdown",
   "id": "d1fea753-eb5d-488d-84ec-5c6b147b9228",
   "metadata": {},
   "source": [
    "# Exercise 2. Tweets across the world\n",
    "\n",
    "Select a query to download 100 tweets. Include the locations entities. Can you find a query where no single country makes up more than 50% of the locations? How can you automate this using a bank of queries? "
   ]
  },
  {
   "cell_type": "markdown",
   "id": "0974c615",
   "metadata": {},
   "source": [
    "**I currently have elevated access rather than academic access, and it seems that [I can't use the \"has:geo\" flag](https://stackoverflow.com/questions/74125493/issues-with-twitter-api-v2-elevated-access-and-hasgeo-query-parameter) because of this. This means the tweets I pull often don't have countries connected to them. However, over 2021, I collected ~700,000 tweets about the vaccine via the twitter API (can download [here](https://drive.google.com/file/d/1uyGa9S5nrV7yBwFGJSOT_0hBzy--5wbE/view?usp=sharing)) that I haven't every analyzed so I hope you won't mind that I use this a chance to analyze this data instead.**"
   ]
  },
  {
   "cell_type": "code",
   "execution_count": 5,
   "id": "9d9e3d3f",
   "metadata": {},
   "outputs": [
    {
     "data": {
      "text/html": [
       "<div>\n",
       "<style scoped>\n",
       "    .dataframe tbody tr th:only-of-type {\n",
       "        vertical-align: middle;\n",
       "    }\n",
       "\n",
       "    .dataframe tbody tr th {\n",
       "        vertical-align: top;\n",
       "    }\n",
       "\n",
       "    .dataframe thead th {\n",
       "        text-align: right;\n",
       "    }\n",
       "</style>\n",
       "<table border=\"1\" class=\"dataframe\">\n",
       "  <thead>\n",
       "    <tr style=\"text-align: right;\">\n",
       "      <th></th>\n",
       "      <th>created_at</th>\n",
       "      <th>id_str</th>\n",
       "      <th>text</th>\n",
       "      <th>user</th>\n",
       "      <th>country</th>\n",
       "      <th>place</th>\n",
       "      <th>retweet_count</th>\n",
       "      <th>favorite_count</th>\n",
       "      <th>accessed</th>\n",
       "      <th>sentiment</th>\n",
       "    </tr>\n",
       "  </thead>\n",
       "  <tbody>\n",
       "    <tr>\n",
       "      <th>0</th>\n",
       "      <td>2020-12-05 20:45:07</td>\n",
       "      <td>1335324346005524483</td>\n",
       "      <td>Landlord: Rent is due. \\n\\nCongress: \"It's oka...</td>\n",
       "      <td>RashidaTlaib</td>\n",
       "      <td>NaN</td>\n",
       "      <td>NaN</td>\n",
       "      <td>3569</td>\n",
       "      <td>22153</td>\n",
       "      <td>NaN</td>\n",
       "      <td>-0.2732</td>\n",
       "    </tr>\n",
       "    <tr>\n",
       "      <th>1</th>\n",
       "      <td>2020-12-06 01:00:15</td>\n",
       "      <td>1335388550683009027</td>\n",
       "      <td>A family of Muslim immigrants from Turkey newl...</td>\n",
       "      <td>AndreiCherny</td>\n",
       "      <td>NaN</td>\n",
       "      <td>NaN</td>\n",
       "      <td>8244</td>\n",
       "      <td>30397</td>\n",
       "      <td>NaN</td>\n",
       "      <td>0.0000</td>\n",
       "    </tr>\n",
       "    <tr>\n",
       "      <th>2</th>\n",
       "      <td>2020-12-06 16:44:32</td>\n",
       "      <td>1335626187020840961</td>\n",
       "      <td>The surge in COVID cases in our region is dang...</td>\n",
       "      <td>RepAdamSchiff</td>\n",
       "      <td>NaN</td>\n",
       "      <td>NaN</td>\n",
       "      <td>2344</td>\n",
       "      <td>13213</td>\n",
       "      <td>NaN</td>\n",
       "      <td>-0.4404</td>\n",
       "    </tr>\n",
       "    <tr>\n",
       "      <th>3</th>\n",
       "      <td>2020-12-05 15:34:13</td>\n",
       "      <td>1335246104015859715</td>\n",
       "      <td>Some positive news - initial supplies of the C...</td>\n",
       "      <td>NicolaSturgeon</td>\n",
       "      <td>NaN</td>\n",
       "      <td>NaN</td>\n",
       "      <td>2739</td>\n",
       "      <td>35532</td>\n",
       "      <td>NaN</td>\n",
       "      <td>0.7783</td>\n",
       "    </tr>\n",
       "    <tr>\n",
       "      <th>4</th>\n",
       "      <td>2020-12-06 18:27:04</td>\n",
       "      <td>1335651989317947396</td>\n",
       "      <td>“Will I take the vaccine?” https://t.co/vg6Ptd...</td>\n",
       "      <td>RexChapman</td>\n",
       "      <td>NaN</td>\n",
       "      <td>NaN</td>\n",
       "      <td>3001</td>\n",
       "      <td>17399</td>\n",
       "      <td>NaN</td>\n",
       "      <td>0.0000</td>\n",
       "    </tr>\n",
       "  </tbody>\n",
       "</table>\n",
       "</div>"
      ],
      "text/plain": [
       "            created_at               id_str  \\\n",
       "0  2020-12-05 20:45:07  1335324346005524483   \n",
       "1  2020-12-06 01:00:15  1335388550683009027   \n",
       "2  2020-12-06 16:44:32  1335626187020840961   \n",
       "3  2020-12-05 15:34:13  1335246104015859715   \n",
       "4  2020-12-06 18:27:04  1335651989317947396   \n",
       "\n",
       "                                                text            user country  \\\n",
       "0  Landlord: Rent is due. \\n\\nCongress: \"It's oka...    RashidaTlaib     NaN   \n",
       "1  A family of Muslim immigrants from Turkey newl...    AndreiCherny     NaN   \n",
       "2  The surge in COVID cases in our region is dang...   RepAdamSchiff     NaN   \n",
       "3  Some positive news - initial supplies of the C...  NicolaSturgeon     NaN   \n",
       "4  “Will I take the vaccine?” https://t.co/vg6Ptd...      RexChapman     NaN   \n",
       "\n",
       "  place  retweet_count  favorite_count accessed  sentiment  \n",
       "0   NaN           3569           22153      NaN    -0.2732  \n",
       "1   NaN           8244           30397      NaN     0.0000  \n",
       "2   NaN           2344           13213      NaN    -0.4404  \n",
       "3   NaN           2739           35532      NaN     0.7783  \n",
       "4   NaN           3001           17399      NaN     0.0000  "
      ]
     },
     "metadata": {},
     "output_type": "display_data"
    },
    {
     "data": {
      "text/plain": [
       "Text(0, 0.5, 'sentiment')"
      ]
     },
     "execution_count": 5,
     "metadata": {},
     "output_type": "execute_result"
    },
    {
     "data": {
      "image/png": "[encoded data removed]",
      "text/plain": [
       "<Figure size 640x480 with 1 Axes>"
      ]
     },
     "metadata": {},
     "output_type": "display_data"
    }
   ],
   "source": [
    "# this block requires the full tweets.csv file, the one below only requires the smaller country_tweets.csv\n",
    "\n",
    "def smooth_timeseries(df, n):\n",
    "\n",
    "    smoothed = df[('sentiment', 'mean')].copy()\n",
    "\n",
    "    for i in range(n):\n",
    "\n",
    "        new_smoothed = smoothed.copy()\n",
    "\n",
    "        for j in range(len(smoothed)):\n",
    "\n",
    "            if not j in [0, len(smoothed) - 1]:\n",
    "                new_smoothed[j] = smoothed[j] / 2 + (\n",
    "                    smoothed[j - 1] + smoothed[j + 1]) / 4\n",
    "            elif j == 0:\n",
    "                new_smoothed[j] = (\n",
    "                    smoothed[j] + smoothed[j + 1]) / 2\n",
    "            else:\n",
    "                new_smoothed[j] = (\n",
    "                    smoothed[j] + smoothed[j - 1]) / 2\n",
    "\n",
    "        smoothed = new_smoothed.copy()\n",
    "\n",
    "    return smoothed\n",
    "\n",
    "sia = SentimentIntensityAnalyzer()\n",
    "\n",
    "tweets_df = pd.read_csv('../data/tweets.csv')\n",
    "tweets_df['sentiment'] = tweets_df['text'].map(lambda x: sia.polarity_scores(re.sub('[^a-zA-Z ]', '', x).lower())['compound'] if isinstance(x, str) else None)\n",
    "tweets_df.to_csv('sentiment_tweets.csv')\n",
    "print(f\"There are {len(tweets_df)} tweets in this dataset\")\n",
    "display(tweets_df.head(5))\n",
    "\n",
    "tweets_df['created_day'] = tweets_df['created_at'].map(\n",
    "    lambda x: dt.datetime.fromisoformat(x).date())\n",
    "daily_df = tweets_df[['created_day', 'sentiment']].groupby(\n",
    "    'created_day').agg({'sentiment': ['min', 'max', 'mean']})\n",
    "\n",
    "smoothed_sentiment = smooth_timeseries(daily_df, 10)\n",
    "\n",
    "plt.plot(daily_df.index, smoothed_sentiment)\n",
    "plt.xlabel('day')\n",
    "plt.ylabel('sentiment')\n"
   ]
  },
  {
   "cell_type": "code",
   "execution_count": 255,
   "id": "d99a117a",
   "metadata": {},
   "outputs": [
    {
     "name": "stdout",
     "output_type": "stream",
     "text": [
      "Only 0.97% or 6829 of 707313 tweets have countries attached\n",
      "Most Common Countries of Those Tweets\n"
     ]
    },
    {
     "data": {
      "text/html": [
       "<div>\n",
       "<style scoped>\n",
       "    .dataframe tbody tr th:only-of-type {\n",
       "        vertical-align: middle;\n",
       "    }\n",
       "\n",
       "    .dataframe tbody tr th {\n",
       "        vertical-align: top;\n",
       "    }\n",
       "\n",
       "    .dataframe thead th {\n",
       "        text-align: right;\n",
       "    }\n",
       "</style>\n",
       "<table border=\"1\" class=\"dataframe\">\n",
       "  <thead>\n",
       "    <tr style=\"text-align: right;\">\n",
       "      <th></th>\n",
       "      <th>count</th>\n",
       "      <th>perc</th>\n",
       "    </tr>\n",
       "    <tr>\n",
       "      <th>country</th>\n",
       "      <th></th>\n",
       "      <th></th>\n",
       "    </tr>\n",
       "  </thead>\n",
       "  <tbody>\n",
       "    <tr>\n",
       "      <th>United States</th>\n",
       "      <td>3930</td>\n",
       "      <td>57.55</td>\n",
       "    </tr>\n",
       "    <tr>\n",
       "      <th>United Kingdom</th>\n",
       "      <td>851</td>\n",
       "      <td>12.46</td>\n",
       "    </tr>\n",
       "    <tr>\n",
       "      <th>Canada</th>\n",
       "      <td>549</td>\n",
       "      <td>8.04</td>\n",
       "    </tr>\n",
       "    <tr>\n",
       "      <th>Australia</th>\n",
       "      <td>463</td>\n",
       "      <td>6.78</td>\n",
       "    </tr>\n",
       "    <tr>\n",
       "      <th>India</th>\n",
       "      <td>323</td>\n",
       "      <td>4.73</td>\n",
       "    </tr>\n",
       "  </tbody>\n",
       "</table>\n",
       "</div>"
      ],
      "text/plain": [
       "                count   perc\n",
       "country                     \n",
       "United States    3930  57.55\n",
       "United Kingdom    851  12.46\n",
       "Canada            549   8.04\n",
       "Australia         463   6.78\n",
       "India             323   4.73"
      ]
     },
     "metadata": {},
     "output_type": "display_data"
    }
   ],
   "source": [
    "# Answer 2 below here\n",
    "\n",
    "# tweets_df = pd.read_csv('../data/tweets.csv')\n",
    "# country_tweets_df = tweets_df[tweets_df['country'].map(lambda x: isinstance(x, str))]\n",
    "# country_tweets_df.to_csv('country_tweets.csv')\n",
    "\n",
    "original_number_of_tweets = 707313\n",
    "\n",
    "country_tweets_df = pd.read_csv('country_tweets.csv')\n",
    "\n",
    "print(f\"Only {(len(country_tweets_df) / original_number_of_tweets):.2%} or {len(country_tweets_df)} of {original_number_of_tweets} tweets have countries attached\")\n",
    "print('Most Common Countries of Those Tweets')\n",
    "country_counts = country_tweets_df.value_counts('country')\n",
    "country_percs = country_counts.map(lambda x: round(x / len(country_tweets_df) * 100, 2))\n",
    "count_df = pd.DataFrame({'count': country_counts, 'perc': country_percs})\n",
    "display(count_df.head(5))\n",
    "\n",
    "# Answer 2 above here"
   ]
  },
  {
   "cell_type": "markdown",
   "id": "9043fb63-ce8b-4cc3-ab76-074ac13cbc8e",
   "metadata": {},
   "source": [
    "# Exercise 3. Comparing `praw` and `psaw`\n",
    "\n",
    "Reddit mods have considerable power over their subreddits. In /r/Science they are notoriously aggressive in their deletion of non-scientific comments. \n",
    "\n",
    "PushShift is an archive of reddit data. You can access this archive using `psaw` which is otherwise very similar to `praw`. Go to /r/science and select a story that over two days old. Compare the comments that you receive from `praw` and `psaw`. Do they have similar: \n",
    "- counts of comments?\n",
    "- counts of comments marked deleted?\n",
    "- upvote scores on the comments? \n",
    "\n",
    "Posit what might account for the difference. Reflect on how this could intervene in making claims about activity on Reddit."
   ]
  },
  {
   "cell_type": "code",
   "execution_count": 82,
   "id": "2926da7a-6a8e-4ced-b82f-8217171e4f8a",
   "metadata": {},
   "outputs": [
    {
     "name": "stdout",
     "output_type": "stream",
     "text": [
      "Original Post Title: \n",
      "Record-breaking chip can transmit entire internet's traffic per second. A new photonic chip design has achieved a world record data transmission speed of 1.84 petabits per second, almost twice the global internet traffic per second.\n",
      "praw gave us 40 total comments, and 7 deleted comments\n"
     ]
    }
   ],
   "source": [
    "# PRAW\n",
    "\n",
    "def get_comments(post):\n",
    "    comment_list = []\n",
    "    for comment in post.comments:\n",
    "        temp = {}\n",
    "        try:\n",
    "            if comment.body == '[removed]': temp['deleted'] = True \n",
    "            else: temp['deleted'] = False\n",
    "            temp['text'] = comment.body\n",
    "            temp['upvotes'] = comment.score\n",
    "        except AttributeError as e:\n",
    "            continue\n",
    "        comment_list.append(temp)\n",
    "\n",
    "    return pd.DataFrame(comment_list)\n",
    "\n",
    "reddit = praw.Reddit(\n",
    "    client_id=config['REDDIT_CLIENT_ID'],\n",
    "    client_secret=config['REDDIT_CLIENT_SECRET'],\n",
    "    user_agent=config['REDDIT_USER_AGENT']\n",
    ")\n",
    "\n",
    "sci = reddit.subreddit('Science')\n",
    "praw_post = list(sci.hot(limit=5))[-1]\n",
    "\n",
    "print(f\"Original Post Title: \\n{praw_post.title}\")\n",
    "\n",
    "praw_df = get_comments(praw_post)\n",
    "\n",
    "print(f\"praw gave us {len(praw_df)} total comments, and {len(praw_df[praw_df['deleted']])} deleted comments\")\n",
    "\n",
    "# PRAW"
   ]
  },
  {
   "cell_type": "code",
   "execution_count": 84,
   "id": "2963a41c",
   "metadata": {},
   "outputs": [
    {
     "name": "stdout",
     "output_type": "stream",
     "text": [
      "Original Post Title: \n",
      "Record-breaking chip can transmit entire internet's traffic per second. A new photonic chip design has achieved a world record data transmission speed of 1.84 petabits per second, almost twice the global internet traffic per second.\n",
      "psaw gave us 1 total comments, but doesn't provide any information on deleted comments\n"
     ]
    },
    {
     "name": "stderr",
     "output_type": "stream",
     "text": [
      "/Users/matthewbone/Documents/Coding/VSCode/FSDS22/fsd22env/lib/python3.9/site-packages/psaw/PushshiftAPI.py:252: UserWarning: Not all PushShift shards are active. Query results may be incomplete\n",
      "  warnings.warn(shards_down_message)\n"
     ]
    }
   ],
   "source": [
    "#PSAW\n",
    "\n",
    "api = PushshiftAPI()\n",
    "\n",
    "psaw_post = None\n",
    "for post in api.search_submissions(subreddit='science', limit=100):\n",
    "    if post.title == praw_post.title:\n",
    "        psaw_post = post\n",
    "\n",
    "print(f\"Original Post Title: \\n{psaw_post.title}\")\n",
    "print(f\"psaw gave us {psaw_post.num_comments} total comments, but doesn't provide any information on deleted comments\")\n",
    "\n",
    "#PSAW"
   ]
  },
  {
   "cell_type": "markdown",
   "id": "3704ffdc-d879-4b41-b66f-cc1ace0d0f39",
   "metadata": {},
   "source": [
    "## Exercise 3 reflections below here \n",
    "\n",
    "It seems like PSAW is severely limited in what it is able to get from posts on reddit. There is a significant amount of metadata about the post but it seems inaccurate and you can't actually pull comments from posts. I'm not sure if this PSAW's limitations or my own misuse.\n",
    "\n",
    "## Exercise 3 reflections above here"
   ]
  },
  {
   "cell_type": "markdown",
   "id": "534237ab-618f-40bb-becf-8d28d1c43367",
   "metadata": {},
   "source": [
    "# Exercise 4 - Comparing comments \n",
    "(in case PushShift isn't working for you)\n",
    "\n",
    "People can submit the same link to multiple subreddits. You can find out where else a link was submitted on Reddit by xx. \n",
    "\n",
    "Select a story that has been submitted to at least two subreddits. Compare the comments for each of these:\n",
    "- Which subreddit has more comments? Would this have been unexpected? Why?\n",
    "- Are there any overlap in the users who comment on these stories across the multiple subreddits?\n",
    "- Summarise the scores of the comments versus the story (`data.ups`). Is the ratio of the top comment score to the ups the same? \n",
    "- Which story has more comments that have a score below zero? As a percentage? \n"
   ]
  },
  {
   "cell_type": "code",
   "execution_count": 8,
   "id": "7206724d-527c-4999-98da-fab9707fe13c",
   "metadata": {},
   "outputs": [],
   "source": [
    "# Exercise 4 below here\n",
    "\n",
    "\n",
    "\n",
    "# Exercise 4 above here"
   ]
  }
 ],
 "metadata": {
  "kernelspec": {
   "display_name": "Python 3.9.13 ('fsd22env': venv)",
   "language": "python",
   "name": "python3"
  },
  "language_info": {
   "codemirror_mode": {
    "name": "ipython",
    "version": 3
   },
   "file_extension": ".py",
   "mimetype": "text/x-python",
   "name": "python",
   "nbconvert_exporter": "python",
   "pygments_lexer": "ipython3",
   "version": "3.9.13"
  },
  "toc-autonumbering": false,
  "vscode": {
   "interpreter": {
    "hash": "72ab57b0b5f2fd64aef2c7b60b3862b1a450b7cb33941b7430bf767e797b1ae3"
   }
  }
 },
 "nbformat": 4,
 "nbformat_minor": 5
}
