{
 "cells": [
  {
   "cell_type": "markdown",
   "id": "911e631a-74e8-44d7-861b-5686cf7941d3",
   "metadata": {
    "tags": []
   },
   "source": [
    "# Week 3. Day 2. Exercises from Chapter 8 of FSStDS. \n",
    "## Fundamentals of Social Data Science. MT 2022\n",
    "\n",
    "Within your study pod discuss the following questions. Please submit an individual assignment by 12:30pm Wednesday, October 26, 2022 on Canvas. "
   ]
  },
  {
   "cell_type": "markdown",
   "id": "cfac9622-decb-4b13-b784-db6f94834c26",
   "metadata": {},
   "source": [
    "# Exercise 1. Inductive, deductive, and abductive questions\n",
    "\n",
    "Let's practice thinking about moving from theory to observation and back again. For the first question I'll be setting the topic (and the relationship within) and then you should posit some inductive intuition about the topic as well as some research questions. \n",
    "\n",
    "The topic is: Social media use and mental health \n",
    "\n",
    "One useful resource for this topic is: https://docs.google.com/document/d/1w-HOfseF2wF9YIpXwUUtP65-olnkPyWcgF5BiAtBEy0/edit which is a collaboratively edited Google Doc by Jonathan Haidt and Jean Twenge. \n",
    "\n",
    "\n",
    "**Part 1.1.** What's an intuition about these topics? Where might you draw your intuition (from the research or your own experience, or both!) \n",
    "\n",
    "**Part 1.2a.** Posit a question about this topic that can be answered inductively, that is from data to theory. \n",
    "\n",
    "**Part 1.2b.** Posit a question about this topic that can be answered deductively, that is from theory to data."
   ]
  },
  {
   "cell_type": "markdown",
   "id": "8f37c4cb-7975-41ca-9d25-303ea1c29c1e",
   "metadata": {},
   "source": [
    "## Part 1. The intuition \n",
    "\n",
    "My initial thoughts would be that there is a negative correlation between amount of social media use and general mental wellbeing. This comes from my personal experience with social media where my mood tends to be worse after I spend a long time on social media.\n",
    "\n",
    "*************"
   ]
  },
  {
   "cell_type": "markdown",
   "id": "0ee6e047-7717-43be-a967-e7b54c976f7f",
   "metadata": {},
   "source": [
    "## Step 2. The inductive question\n",
    "\n",
    "You could get access to survey data with self-reported subjective wellbeing and social media use to see if they're significantlyh correlated. Alternatively, you could look at a group with mental health issues and one without and ask if the group with mental health issues has a significantly higher rate of social media use. Neither of these could validate a causal relationship however.\n",
    "\n",
    "*************"
   ]
  },
  {
   "cell_type": "markdown",
   "id": "1fe2f218-6a4b-4653-a72a-864b14d6ddc1",
   "metadata": {},
   "source": [
    "## Step 3. The deductive question \n",
    "\n",
    "If you had the theory that social media is like substance addiction and substance addiction was known to lead to mental health issues, you could ask whether or not social media use also leads to mental health issues. \n",
    "\n",
    "*************"
   ]
  },
  {
   "cell_type": "markdown",
   "id": "3f3b2afa-0210-4f4c-b02d-51c7e3508beb",
   "metadata": {},
   "source": [
    "# Exercise 2. (for FSDS) No! Not the thesis! \n",
    "\n",
    "The thesis is one third of the degree. It's not a culmination of your work, but one extended piece of research among the others. But in addition to the thesis, you'll have to do work with a research question in Applied Analytical Statistics and both your option courses (most likely). Let's take this opportunity to practice some research questions you might use in these cases.\n",
    "\n",
    "In steps: \n",
    "**Part 1.** Describe a phenomenon that you have an intuition about. It might be an experience online or in person, describing an event, a practice, or a set of regular customs or features language. It might be a sense about one's position in the network of information, or how things unfold over time. \n",
    "\n",
    "**Part 2a.** Think about a research question that could help you focus on how to _predict_ that phenomenon. Imagine this is work at the scale of a 5k research paper. \n",
    "\n",
    "**Part 2b.** Think about a research question that could help you focus on how to _explain_ that phenomenon. Imagine this is work at the scale of a 5k research paper. \n",
    "\n",
    "**Part 3.** Reflect on the difference between a 5k and a 10k research paper. This is roughly equivalent to a difference of 10 pages single spaced 12pt font and 20-25 pages. What would you include in the 10k that you wouldn't include in the 5k; more variables? more coverage? prediction AND explanation? dianostics? "
   ]
  },
  {
   "cell_type": "markdown",
   "id": "0e1f9414-dbe8-41f8-bb1c-9256d73ae23d",
   "metadata": {},
   "source": [
    "## Part 2.1. Describe a phenomenon and your intuition about it\n",
    "\n",
    "Polarization is a macro-level consequence of individual behavior, my intuition would be that an increased percent of people in a population that are willing to talk to people on the opposite end of the spectrum would lead to less polarization.\n",
    "\n",
    "*************"
   ]
  },
  {
   "cell_type": "markdown",
   "id": "6f06c253-2b03-49e4-ad83-77fb1f2044f7",
   "metadata": {},
   "source": [
    "## Part 2.2a. A prediction-oriented research question for a 5k paper\n",
    "\n",
    "If we increase the number of interactions between people on opposite ends of a spectrum, polarization becomes less likely. We could try to create an Agent-based model to test this intervention out since it's difficult to do this in a real population.\n",
    "\n",
    "*************"
   ]
  },
  {
   "cell_type": "markdown",
   "id": "31d4f48f-31cf-4a80-b1d2-e97f31d2028f",
   "metadata": {},
   "source": [
    "## Part 2.2b. An explanation-oriented research question for a 5k paper\n",
    "\n",
    "What percent of a population that interacts with those on the opposite end of the spectrum is sufficient to lead to reduced polarization. We could do this by simulating many agent-based models with varying percents of the population interacting with those on the opposite end of the spectrum and seeing the polarity distribution using some metric for polarity.\n",
    "\n",
    "*************"
   ]
  },
  {
   "cell_type": "markdown",
   "id": "23635dbf-c64c-45d7-9415-48eaef8b76a8",
   "metadata": {},
   "source": [
    "## Part 2.3. The difference 5k makes\n",
    "\n",
    "We could add multiple other interaction rules like homophily, repulsion, and others to complicate the model and see what polarity outcomes result. Also, we could try and fit the population characteristics to real-world data, like the initial polarity state and compare that to how polarized people get overtime. \n",
    "\n",
    "*************"
   ]
  }
 ],
 "metadata": {
  "kernelspec": {
   "display_name": "Python 3.9.13 ('fsd22env': venv)",
   "language": "python",
   "name": "python3"
  },
  "language_info": {
   "codemirror_mode": {
    "name": "ipython",
    "version": 3
   },
   "file_extension": ".py",
   "mimetype": "text/x-python",
   "name": "python",
   "nbconvert_exporter": "python",
   "pygments_lexer": "ipython3",
   "version": "3.9.13"
  },
  "toc-autonumbering": false,
  "vscode": {
   "interpreter": {
    "hash": "72ab57b0b5f2fd64aef2c7b60b3862b1a450b7cb33941b7430bf767e797b1ae3"
   }
  }
 },
 "nbformat": 4,
 "nbformat_minor": 5
}
