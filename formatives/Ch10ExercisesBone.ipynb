{
 "cells": [
  {
   "cell_type": "markdown",
   "id": "911e631a-74e8-44d7-861b-5686cf7941d3",
   "metadata": {
    "tags": []
   },
   "source": [
    "# Week 4. Day 1. Exercises from Chapter 10 of FSStDS. \n",
    "## Fundamentals of Social Data Science. MT 2022\n",
    "\n",
    "Within your study pod discuss the following questions. Please submit an individual assignment by 12:30pm Tuesday, November 1st, 2022 on Canvas. "
   ]
  },
  {
   "cell_type": "markdown",
   "id": "e6d6159a-d2d8-4d47-a900-172e0ceb3fdd",
   "metadata": {},
   "source": [
    "# Refactoring code \n",
    "\n",
    "Chapter 10 gave the example of the Movie Stack Exchange as a file with posts that could be cleaned and imported into Python. The steps taken are sequential and result in a final DataFrame which was pickled. \n",
    "\n",
    "Below we want you to proceed in steps, refactor or rewriting that code until we end up with a script whereby you can take the zipped "
   ]
  },
  {
   "cell_type": "markdown",
   "id": "9a971bc3-1a39-4973-9693-58a5f5e68c88",
   "metadata": {},
   "source": [
    "# Step 1. \n",
    "**Be able to get from the 7z file to the preferred XML file**\n",
    "\n",
    "In the first step (for which I've provided starter code), you should be able to open a downloaded 7z file representing the archive, export it to a folder under data dir.\n",
    "\n",
    "## Challenge 1. \n",
    "Can you do this with data from the web instead of downloading it first?  "
   ]
  },
  {
   "cell_type": "code",
   "execution_count": 1,
   "id": "ea1bff34-06cc-451a-8667-e7efc2d004ef",
   "metadata": {},
   "outputs": [],
   "source": [
    "# Answer step 1 below here\n",
    "\n",
    "# Note you will likely need to install py7zr through pip \n",
    "# or use an altnernate approach to unpacking such as \n",
    "# pyunpack or libarchive (both of which I found fussy)"
   ]
  },
  {
   "cell_type": "code",
   "execution_count": 2,
   "id": "5c72619d-599d-4490-a9fa-49f5b41da94e",
   "metadata": {},
   "outputs": [],
   "source": [
    "from pathlib import Path\n",
    "import py7zr\n",
    "import requests as req\n",
    "import os\n",
    "import pandas as pd\n",
    "from lxml.etree import XMLParser, parse\n",
    "xmlparser = XMLParser(huge_tree=True)\n",
    "import xmltodict as xd\n",
    "import bs4\n",
    "import shutil\n",
    "import numpy as np"
   ]
  },
  {
   "cell_type": "code",
   "execution_count": 3,
   "id": "3fd6a17e-a4bd-49a2-b064-2eb17318700e",
   "metadata": {},
   "outputs": [],
   "source": [
    "def extract_stack(stack):\n",
    "\n",
    "    endpoint = f\"https://archive.org/download/stackexchange/{stack}.stackexchange.com.7z\"\n",
    "    res = req.get(endpoint, stream=True)\n",
    "    path = f\"../data/{stack}\"\n",
    "    filename = path + f\"/{stack}.7z\"\n",
    "\n",
    "    if res.status_code == 200:\n",
    "\n",
    "        if not Path(path).exists(): \n",
    "            Path(path).mkdir()\n",
    "\n",
    "        with open(filename, 'wb') as out:\n",
    "            out.write(res.content)\n",
    "\n",
    "        with py7zr.SevenZipFile(filename, mode='r') as z:\n",
    "            z.extractall(path)\n",
    "\n",
    "        os.remove(filename)\n",
    "\n",
    "    else: print(f\"Request Failed: {res.status_code}\")\n"
   ]
  },
  {
   "cell_type": "markdown",
   "id": "4995baa3-5c4a-48d5-9086-b9b8ce293808",
   "metadata": {},
   "source": [
    "# Step 2. \n",
    "\n",
    "Refactor the code from Chapter 10 of the book into a function that works for the `posts.xml`. That function should take in the base data and then:\n",
    "1. Convert the `int` variables (except where they start or end in `Id`) into integer values. \n",
    "2. Convert the `datetime` variables. \n",
    "3. Convert tags data from `str` into a `list`.\n",
    "4. Create a separate column for `CleanBody` which is the `Body` without HTML. \n",
    "5. Assign the HTML into a column as a list called `ListURL`.\n",
    "6. Pickle that DataFrame with a coherent name, such as `f\"{stack}_Posts_cleaned.xml\"`.\n",
    "\n",
    "Notes: \n",
    "> I say 'in a function', but you might want to have a main function and then helper functions for subprocesses. \n",
    "> You can make this more abstract, but that's coming anyway. Read the exercises below, and then think about this plan."
   ]
  },
  {
   "cell_type": "code",
   "execution_count": 4,
   "id": "9a9af143-9354-41c0-b597-c2605043329e",
   "metadata": {},
   "outputs": [],
   "source": [
    "# Answer Step 2 below here \n",
    "\n",
    "parse_dict = {\n",
    "    \"Id\": \"string\",\n",
    "    \"CreationDate\": \"datetime\",\n",
    "    \"Body\": \"text\",\n",
    "    \"Title\": \"string\",\n",
    "    \"DisplayName\": \"string\",\n",
    "    \"AccountId\": \"string\"\n",
    "}\n",
    "\n",
    "def clean_row(row):\n",
    "\n",
    "    cleaned_row = {}\n",
    "\n",
    "    for key, val in row.items():\n",
    "        \n",
    "        if key in parse_dict.keys():\n",
    "            var_type = parse_dict[key]\n",
    "            if var_type == \"string\": cleaned_row[key] = val\n",
    "            elif var_type == \"datetime\": cleaned_row[key] = pd.to_datetime(val)\n",
    "            elif var_type == \"text\": cleaned_row[key] = bs4.BeautifulSoup(val, \"lxml\").text.replace(\"\\n\",\" \")\n",
    "\n",
    "    return cleaned_row\n",
    "\n",
    "def xml_to_df(tree):\n",
    "\n",
    "    rows = tree.getroot().getchildren()\n",
    "    row_list = []\n",
    "    for row in rows:\n",
    "        cleaned = clean_row(dict(row.attrib))\n",
    "        row_list.append(cleaned)\n",
    "    return pd.DataFrame(row_list)\n",
    "\n",
    "\n",
    "def extract_data(stack):\n",
    "\n",
    "    path = f\"../data/{stack}\"\n",
    "    \n",
    "    post_tree = parse(path + '/Posts.xml', parser=xmlparser)\n",
    "    post_df = xml_to_df(post_tree)\n",
    "\n",
    "    user_tree = parse(path + '/Users.xml', parser=xmlparser)\n",
    "    user_df = xml_to_df(user_tree)\n",
    "\n",
    "    shutil.rmtree(path)\n",
    "    Path(path).mkdir()\n",
    "\n",
    "    post_df.to_pickle(f\"../data/{stack}/post_df.pkl\")\n",
    "    user_df.to_pickle(f\"../data/{stack}/user_df.pkl\")\n"
   ]
  },
  {
   "cell_type": "markdown",
   "id": "cd063980-d98e-4550-b195-2d8e098e6a1a",
   "metadata": {},
   "source": [
    "# Step 3. \n",
    "\n",
    "Parameterise the function. Depending on how you created the function above, you might have hard coded the names of the columns from the `Posts.xml` data. This time, make a parameter for the specific schema that you are going to use to convert the data. The schema should be stored as JSON and have the type of XML file as a key, with the value being a dictionary for the column names and the conversion, such as the following: \n",
    "\n",
    "~~~ Python\n",
    "[\"Posts\": {\"Id\":none,\n",
    "           \"PostTypeID\":none,...,\n",
    "           \"Tags\":[\"str\",\"list\"],\n",
    "           \"AnswerCount\":\"int\",\n",
    "           \"Body\":[\"str\",\"CleanHTML\",\"listHTML\"]},\n",
    " \"Users\": {\"Id\":none,\n",
    "           \"Reputation\":\"int\", ...}\n",
    "~~~\n",
    "\n",
    "So, now this time, the main function should read in the Schema from file, select the right table type (such as \"Posts\") and then return (or export to pickle) a DataFrame with the same naming conventions as above.   \n",
    "\n",
    "Full schema available here: https://i.stack.imgur.com/AyIkW.png\n",
    "\n",
    "> Note that this schema or question does not make assumptions about what you will do with None values, but it is encouraged for you to consider whether to convert to None, \"\", pd.NA, np.NAN, depending on context. "
   ]
  },
  {
   "cell_type": "markdown",
   "id": "82483988-d134-46e9-875c-37233ac89e64",
   "metadata": {},
   "source": [
    "### Answer Step 3 below here \n",
    "\n",
    "I did this in the original"
   ]
  },
  {
   "cell_type": "markdown",
   "id": "8b515c26-ff72-4305-9fe5-c43d21aa7231",
   "metadata": {},
   "source": [
    "# Step 4. A wide parameter. \n",
    "\n",
    "Create a means (either with a parameter in the original file or using a separate file) in order to create a long table from one of the wide tables. That is, it should take the column that is used for the long data (which we assume would be a list of values) and then `explode()` the table. By default, it should only explode the selected column. You should be able to pass it a list of additional columns that will also appear in the exploded data.  "
   ]
  },
  {
   "cell_type": "code",
   "execution_count": 5,
   "id": "d5e2bd45-c7ae-444e-a391-9c733e7d32da",
   "metadata": {},
   "outputs": [],
   "source": [
    "# Answer Step 4 below here\n",
    "\n"
   ]
  },
  {
   "cell_type": "markdown",
   "id": "40b93c31-e261-459d-b548-d3809b1b95af",
   "metadata": {},
   "source": [
    "# Challenge #2. \n",
    "_(example code will not be provided)_\n",
    "\n",
    "Recall that we downloaded the data from the Internet Archive. That main URL has a list of all of the Stack Exchanges and their sizes. \n",
    "\n",
    "Can we use this data in order to present a list of Stack Exchanges and then have the user select which one to first download instead of linking directly? \n",
    "\n",
    "Explore this as well as some packages for providing progress bars for the download process. Package all the code up in a script that allows the user to select which Exchange and then receive the resulting preferred tables as .pkl."
   ]
  },
  {
   "cell_type": "code",
   "execution_count": 6,
   "id": "9f505dfa",
   "metadata": {},
   "outputs": [
    {
     "name": "stdout",
     "output_type": "stream",
     "text": [
      "There are 194 stacks\n",
      "['3dprinting' 'Sites' '__ia_thumb' 'academia' 'ai']\n"
     ]
    }
   ],
   "source": []
  },
  {
   "cell_type": "code",
   "execution_count": 8,
   "id": "9f92e4e6-89ec-43ba-87da-6d64286e4b3e",
   "metadata": {},
   "outputs": [
    {
     "name": "stderr",
     "output_type": "stream",
     "text": [
      "/Users/matthewbone/Documents/Coding/VSCode/FSDS22/fsd22env/lib/python3.9/site-packages/bs4/__init__.py:435: MarkupResemblesLocatorWarning: The input looks more like a filename than markup. You may want to open this file and pass the filehandle into Beautiful Soup.\n",
      "  warnings.warn(\n"
     ]
    },
    {
     "name": "stdout",
     "output_type": "stream",
     "text": [
      "Request Failed: 404\n",
      "something failed for Sites\n",
      "Request Failed: 404\n",
      "something failed for __ia_thumb\n"
     ]
    },
    {
     "name": "stderr",
     "output_type": "stream",
     "text": [
      "/Users/matthewbone/Documents/Coding/VSCode/FSDS22/fsd22env/lib/python3.9/site-packages/bs4/__init__.py:435: MarkupResemblesLocatorWarning: The input looks more like a filename than markup. You may want to open this file and pass the filehandle into Beautiful Soup.\n",
      "  warnings.warn(\n",
      "/Users/matthewbone/Documents/Coding/VSCode/FSDS22/fsd22env/lib/python3.9/site-packages/bs4/__init__.py:435: MarkupResemblesLocatorWarning: The input looks more like a filename than markup. You may want to open this file and pass the filehandle into Beautiful Soup.\n",
      "  warnings.warn(\n",
      "/Users/matthewbone/Documents/Coding/VSCode/FSDS22/fsd22env/lib/python3.9/site-packages/bs4/__init__.py:435: MarkupResemblesLocatorWarning: The input looks more like a filename than markup. You may want to open this file and pass the filehandle into Beautiful Soup.\n",
      "  warnings.warn(\n",
      "/Users/matthewbone/Documents/Coding/VSCode/FSDS22/fsd22env/lib/python3.9/site-packages/bs4/__init__.py:435: MarkupResemblesLocatorWarning: The input looks more like a filename than markup. You may want to open this file and pass the filehandle into Beautiful Soup.\n",
      "  warnings.warn(\n",
      "/Users/matthewbone/Documents/Coding/VSCode/FSDS22/fsd22env/lib/python3.9/site-packages/bs4/__init__.py:435: MarkupResemblesLocatorWarning: The input looks more like a filename than markup. You may want to open this file and pass the filehandle into Beautiful Soup.\n",
      "  warnings.warn(\n",
      "/Users/matthewbone/Documents/Coding/VSCode/FSDS22/fsd22env/lib/python3.9/site-packages/bs4/__init__.py:435: MarkupResemblesLocatorWarning: The input looks more like a filename than markup. You may want to open this file and pass the filehandle into Beautiful Soup.\n",
      "  warnings.warn(\n"
     ]
    },
    {
     "name": "stdout",
     "output_type": "stream",
     "text": [
      "Request Failed: 404\n",
      "something failed for askubuntu\n"
     ]
    },
    {
     "name": "stderr",
     "output_type": "stream",
     "text": [
      "/Users/matthewbone/Documents/Coding/VSCode/FSDS22/fsd22env/lib/python3.9/site-packages/bs4/__init__.py:435: MarkupResemblesLocatorWarning: The input looks more like a filename than markup. You may want to open this file and pass the filehandle into Beautiful Soup.\n",
      "  warnings.warn(\n",
      "/Users/matthewbone/Documents/Coding/VSCode/FSDS22/fsd22env/lib/python3.9/site-packages/bs4/__init__.py:435: MarkupResemblesLocatorWarning: The input looks more like a filename than markup. You may want to open this file and pass the filehandle into Beautiful Soup.\n",
      "  warnings.warn(\n",
      "/Users/matthewbone/Documents/Coding/VSCode/FSDS22/fsd22env/lib/python3.9/site-packages/bs4/__init__.py:435: MarkupResemblesLocatorWarning: The input looks more like a filename than markup. You may want to open this file and pass the filehandle into Beautiful Soup.\n",
      "  warnings.warn(\n",
      "/Users/matthewbone/Documents/Coding/VSCode/FSDS22/fsd22env/lib/python3.9/site-packages/bs4/__init__.py:435: MarkupResemblesLocatorWarning: The input looks more like a filename than markup. You may want to open this file and pass the filehandle into Beautiful Soup.\n",
      "  warnings.warn(\n",
      "/Users/matthewbone/Documents/Coding/VSCode/FSDS22/fsd22env/lib/python3.9/site-packages/bs4/__init__.py:435: MarkupResemblesLocatorWarning: The input looks more like a filename than markup. You may want to open this file and pass the filehandle into Beautiful Soup.\n",
      "  warnings.warn(\n",
      "/Users/matthewbone/Documents/Coding/VSCode/FSDS22/fsd22env/lib/python3.9/site-packages/bs4/__init__.py:435: MarkupResemblesLocatorWarning: The input looks more like a filename than markup. You may want to open this file and pass the filehandle into Beautiful Soup.\n",
      "  warnings.warn(\n",
      "/Users/matthewbone/Documents/Coding/VSCode/FSDS22/fsd22env/lib/python3.9/site-packages/bs4/__init__.py:435: MarkupResemblesLocatorWarning: The input looks more like a filename than markup. You may want to open this file and pass the filehandle into Beautiful Soup.\n",
      "  warnings.warn(\n",
      "/Users/matthewbone/Documents/Coding/VSCode/FSDS22/fsd22env/lib/python3.9/site-packages/bs4/__init__.py:435: MarkupResemblesLocatorWarning: The input looks more like a filename than markup. You may want to open this file and pass the filehandle into Beautiful Soup.\n",
      "  warnings.warn(\n",
      "/Users/matthewbone/Documents/Coding/VSCode/FSDS22/fsd22env/lib/python3.9/site-packages/bs4/__init__.py:435: MarkupResemblesLocatorWarning: The input looks more like a filename than markup. You may want to open this file and pass the filehandle into Beautiful Soup.\n",
      "  warnings.warn(\n",
      "/Users/matthewbone/Documents/Coding/VSCode/FSDS22/fsd22env/lib/python3.9/site-packages/bs4/__init__.py:435: MarkupResemblesLocatorWarning: The input looks more like a filename than markup. You may want to open this file and pass the filehandle into Beautiful Soup.\n",
      "  warnings.warn(\n",
      "/Users/matthewbone/Documents/Coding/VSCode/FSDS22/fsd22env/lib/python3.9/site-packages/bs4/__init__.py:435: MarkupResemblesLocatorWarning: The input looks more like a filename than markup. You may want to open this file and pass the filehandle into Beautiful Soup.\n",
      "  warnings.warn(\n",
      "/Users/matthewbone/Documents/Coding/VSCode/FSDS22/fsd22env/lib/python3.9/site-packages/bs4/__init__.py:435: MarkupResemblesLocatorWarning: The input looks more like a filename than markup. You may want to open this file and pass the filehandle into Beautiful Soup.\n",
      "  warnings.warn(\n",
      "/Users/matthewbone/Documents/Coding/VSCode/FSDS22/fsd22env/lib/python3.9/site-packages/bs4/__init__.py:435: MarkupResemblesLocatorWarning: The input looks more like a filename than markup. You may want to open this file and pass the filehandle into Beautiful Soup.\n",
      "  warnings.warn(\n",
      "/Users/matthewbone/Documents/Coding/VSCode/FSDS22/fsd22env/lib/python3.9/site-packages/bs4/__init__.py:435: MarkupResemblesLocatorWarning: The input looks more like a filename than markup. You may want to open this file and pass the filehandle into Beautiful Soup.\n",
      "  warnings.warn(\n",
      "/Users/matthewbone/Documents/Coding/VSCode/FSDS22/fsd22env/lib/python3.9/site-packages/bs4/__init__.py:435: MarkupResemblesLocatorWarning: The input looks more like a filename than markup. You may want to open this file and pass the filehandle into Beautiful Soup.\n",
      "  warnings.warn(\n",
      "/Users/matthewbone/Documents/Coding/VSCode/FSDS22/fsd22env/lib/python3.9/site-packages/bs4/__init__.py:435: MarkupResemblesLocatorWarning: The input looks more like a filename than markup. You may want to open this file and pass the filehandle into Beautiful Soup.\n",
      "  warnings.warn(\n",
      "/Users/matthewbone/Documents/Coding/VSCode/FSDS22/fsd22env/lib/python3.9/site-packages/bs4/__init__.py:435: MarkupResemblesLocatorWarning: The input looks more like a filename than markup. You may want to open this file and pass the filehandle into Beautiful Soup.\n",
      "  warnings.warn(\n",
      "/Users/matthewbone/Documents/Coding/VSCode/FSDS22/fsd22env/lib/python3.9/site-packages/bs4/__init__.py:435: MarkupResemblesLocatorWarning: The input looks more like a filename than markup. You may want to open this file and pass the filehandle into Beautiful Soup.\n",
      "  warnings.warn(\n",
      "/Users/matthewbone/Documents/Coding/VSCode/FSDS22/fsd22env/lib/python3.9/site-packages/bs4/__init__.py:435: MarkupResemblesLocatorWarning: The input looks more like a filename than markup. You may want to open this file and pass the filehandle into Beautiful Soup.\n",
      "  warnings.warn(\n"
     ]
    },
    {
     "name": "stdout",
     "output_type": "stream",
     "text": [
      "something failed for codegolf\n",
      "something failed for codereview\n"
     ]
    },
    {
     "name": "stderr",
     "output_type": "stream",
     "text": [
      "/Users/matthewbone/Documents/Coding/VSCode/FSDS22/fsd22env/lib/python3.9/site-packages/bs4/__init__.py:435: MarkupResemblesLocatorWarning: The input looks more like a filename than markup. You may want to open this file and pass the filehandle into Beautiful Soup.\n",
      "  warnings.warn(\n",
      "/Users/matthewbone/Documents/Coding/VSCode/FSDS22/fsd22env/lib/python3.9/site-packages/bs4/__init__.py:435: MarkupResemblesLocatorWarning: The input looks more like a filename than markup. You may want to open this file and pass the filehandle into Beautiful Soup.\n",
      "  warnings.warn(\n",
      "/Users/matthewbone/Documents/Coding/VSCode/FSDS22/fsd22env/lib/python3.9/site-packages/bs4/__init__.py:435: MarkupResemblesLocatorWarning: The input looks more like a filename than markup. You may want to open this file and pass the filehandle into Beautiful Soup.\n",
      "  warnings.warn(\n",
      "/Users/matthewbone/Documents/Coding/VSCode/FSDS22/fsd22env/lib/python3.9/site-packages/bs4/__init__.py:435: MarkupResemblesLocatorWarning: The input looks more like a filename than markup. You may want to open this file and pass the filehandle into Beautiful Soup.\n",
      "  warnings.warn(\n",
      "/Users/matthewbone/Documents/Coding/VSCode/FSDS22/fsd22env/lib/python3.9/site-packages/bs4/__init__.py:435: MarkupResemblesLocatorWarning: The input looks more like a filename than markup. You may want to open this file and pass the filehandle into Beautiful Soup.\n",
      "  warnings.warn(\n",
      "/Users/matthewbone/Documents/Coding/VSCode/FSDS22/fsd22env/lib/python3.9/site-packages/bs4/__init__.py:435: MarkupResemblesLocatorWarning: The input looks more like a filename than markup. You may want to open this file and pass the filehandle into Beautiful Soup.\n",
      "  warnings.warn(\n",
      "/Users/matthewbone/Documents/Coding/VSCode/FSDS22/fsd22env/lib/python3.9/site-packages/bs4/__init__.py:435: MarkupResemblesLocatorWarning: The input looks more like a filename than markup. You may want to open this file and pass the filehandle into Beautiful Soup.\n",
      "  warnings.warn(\n",
      "/Users/matthewbone/Documents/Coding/VSCode/FSDS22/fsd22env/lib/python3.9/site-packages/bs4/__init__.py:435: MarkupResemblesLocatorWarning: The input looks more like a filename than markup. You may want to open this file and pass the filehandle into Beautiful Soup.\n",
      "  warnings.warn(\n",
      "/Users/matthewbone/Documents/Coding/VSCode/FSDS22/fsd22env/lib/python3.9/site-packages/bs4/__init__.py:435: MarkupResemblesLocatorWarning: The input looks more like a filename than markup. You may want to open this file and pass the filehandle into Beautiful Soup.\n",
      "  warnings.warn(\n",
      "/Users/matthewbone/Documents/Coding/VSCode/FSDS22/fsd22env/lib/python3.9/site-packages/bs4/__init__.py:435: MarkupResemblesLocatorWarning: The input looks more like a filename than markup. You may want to open this file and pass the filehandle into Beautiful Soup.\n",
      "  warnings.warn(\n",
      "/Users/matthewbone/Documents/Coding/VSCode/FSDS22/fsd22env/lib/python3.9/site-packages/bs4/__init__.py:435: MarkupResemblesLocatorWarning: The input looks more like a filename than markup. You may want to open this file and pass the filehandle into Beautiful Soup.\n",
      "  warnings.warn(\n",
      "/Users/matthewbone/Documents/Coding/VSCode/FSDS22/fsd22env/lib/python3.9/site-packages/bs4/__init__.py:435: MarkupResemblesLocatorWarning: The input looks more like a filename than markup. You may want to open this file and pass the filehandle into Beautiful Soup.\n",
      "  warnings.warn(\n",
      "/Users/matthewbone/Documents/Coding/VSCode/FSDS22/fsd22env/lib/python3.9/site-packages/bs4/__init__.py:435: MarkupResemblesLocatorWarning: The input looks more like a filename than markup. You may want to open this file and pass the filehandle into Beautiful Soup.\n",
      "  warnings.warn(\n",
      "/Users/matthewbone/Documents/Coding/VSCode/FSDS22/fsd22env/lib/python3.9/site-packages/bs4/__init__.py:435: MarkupResemblesLocatorWarning: The input looks more like a filename than markup. You may want to open this file and pass the filehandle into Beautiful Soup.\n",
      "  warnings.warn(\n",
      "/Users/matthewbone/Documents/Coding/VSCode/FSDS22/fsd22env/lib/python3.9/site-packages/bs4/__init__.py:435: MarkupResemblesLocatorWarning: The input looks more like a filename than markup. You may want to open this file and pass the filehandle into Beautiful Soup.\n",
      "  warnings.warn(\n",
      "/Users/matthewbone/Documents/Coding/VSCode/FSDS22/fsd22env/lib/python3.9/site-packages/bs4/__init__.py:435: MarkupResemblesLocatorWarning: The input looks more like a filename than markup. You may want to open this file and pass the filehandle into Beautiful Soup.\n",
      "  warnings.warn(\n"
     ]
    },
    {
     "name": "stdout",
     "output_type": "stream",
     "text": [
      "something failed for drupal\n"
     ]
    },
    {
     "name": "stderr",
     "output_type": "stream",
     "text": [
      "/Users/matthewbone/Documents/Coding/VSCode/FSDS22/fsd22env/lib/python3.9/site-packages/bs4/__init__.py:435: MarkupResemblesLocatorWarning: The input looks more like a filename than markup. You may want to open this file and pass the filehandle into Beautiful Soup.\n",
      "  warnings.warn(\n",
      "/Users/matthewbone/Documents/Coding/VSCode/FSDS22/fsd22env/lib/python3.9/site-packages/bs4/__init__.py:435: MarkupResemblesLocatorWarning: The input looks more like a filename than markup. You may want to open this file and pass the filehandle into Beautiful Soup.\n",
      "  warnings.warn(\n",
      "/Users/matthewbone/Documents/Coding/VSCode/FSDS22/fsd22env/lib/python3.9/site-packages/bs4/__init__.py:435: MarkupResemblesLocatorWarning: The input looks more like a filename than markup. You may want to open this file and pass the filehandle into Beautiful Soup.\n",
      "  warnings.warn(\n",
      "/Users/matthewbone/Documents/Coding/VSCode/FSDS22/fsd22env/lib/python3.9/site-packages/bs4/__init__.py:435: MarkupResemblesLocatorWarning: The input looks more like a filename than markup. You may want to open this file and pass the filehandle into Beautiful Soup.\n",
      "  warnings.warn(\n",
      "/Users/matthewbone/Documents/Coding/VSCode/FSDS22/fsd22env/lib/python3.9/site-packages/bs4/__init__.py:435: MarkupResemblesLocatorWarning: The input looks more like a filename than markup. You may want to open this file and pass the filehandle into Beautiful Soup.\n",
      "  warnings.warn(\n",
      "/Users/matthewbone/Documents/Coding/VSCode/FSDS22/fsd22env/lib/python3.9/site-packages/bs4/__init__.py:435: MarkupResemblesLocatorWarning: The input looks more like a filename than markup. You may want to open this file and pass the filehandle into Beautiful Soup.\n",
      "  warnings.warn(\n",
      "/Users/matthewbone/Documents/Coding/VSCode/FSDS22/fsd22env/lib/python3.9/site-packages/bs4/__init__.py:435: MarkupResemblesLocatorWarning: The input looks more like a filename than markup. You may want to open this file and pass the filehandle into Beautiful Soup.\n",
      "  warnings.warn(\n",
      "/Users/matthewbone/Documents/Coding/VSCode/FSDS22/fsd22env/lib/python3.9/site-packages/bs4/__init__.py:435: MarkupResemblesLocatorWarning: The input looks more like a filename than markup. You may want to open this file and pass the filehandle into Beautiful Soup.\n",
      "  warnings.warn(\n",
      "/Users/matthewbone/Documents/Coding/VSCode/FSDS22/fsd22env/lib/python3.9/site-packages/bs4/__init__.py:435: MarkupResemblesLocatorWarning: The input looks more like a filename than markup. You may want to open this file and pass the filehandle into Beautiful Soup.\n",
      "  warnings.warn(\n",
      "/Users/matthewbone/Documents/Coding/VSCode/FSDS22/fsd22env/lib/python3.9/site-packages/bs4/__init__.py:435: MarkupResemblesLocatorWarning: The input looks more like a filename than markup. You may want to open this file and pass the filehandle into Beautiful Soup.\n",
      "  warnings.warn(\n",
      "/Users/matthewbone/Documents/Coding/VSCode/FSDS22/fsd22env/lib/python3.9/site-packages/bs4/__init__.py:435: MarkupResemblesLocatorWarning: The input looks more like a filename than markup. You may want to open this file and pass the filehandle into Beautiful Soup.\n",
      "  warnings.warn(\n"
     ]
    },
    {
     "name": "stdout",
     "output_type": "stream",
     "text": [
      "Request Failed: 404\n",
      "something failed for es\n"
     ]
    },
    {
     "name": "stderr",
     "output_type": "stream",
     "text": [
      "/Users/matthewbone/Documents/Coding/VSCode/FSDS22/fsd22env/lib/python3.9/site-packages/bs4/__init__.py:435: MarkupResemblesLocatorWarning: The input looks more like a filename than markup. You may want to open this file and pass the filehandle into Beautiful Soup.\n",
      "  warnings.warn(\n",
      "/Users/matthewbone/Documents/Coding/VSCode/FSDS22/fsd22env/lib/python3.9/site-packages/bs4/__init__.py:404: MarkupResemblesLocatorWarning: The input looks more like a URL than markup. You may want to use an HTTP client like requests to get the document behind the URL, and feed that document to Beautiful Soup.\n",
      "  warnings.warn(\n",
      "/Users/matthewbone/Documents/Coding/VSCode/FSDS22/fsd22env/lib/python3.9/site-packages/bs4/__init__.py:435: MarkupResemblesLocatorWarning: The input looks more like a filename than markup. You may want to open this file and pass the filehandle into Beautiful Soup.\n",
      "  warnings.warn(\n",
      "/Users/matthewbone/Documents/Coding/VSCode/FSDS22/fsd22env/lib/python3.9/site-packages/bs4/__init__.py:435: MarkupResemblesLocatorWarning: The input looks more like a filename than markup. You may want to open this file and pass the filehandle into Beautiful Soup.\n",
      "  warnings.warn(\n",
      "/Users/matthewbone/Documents/Coding/VSCode/FSDS22/fsd22env/lib/python3.9/site-packages/bs4/__init__.py:435: MarkupResemblesLocatorWarning: The input looks more like a filename than markup. You may want to open this file and pass the filehandle into Beautiful Soup.\n",
      "  warnings.warn(\n",
      "/Users/matthewbone/Documents/Coding/VSCode/FSDS22/fsd22env/lib/python3.9/site-packages/bs4/__init__.py:435: MarkupResemblesLocatorWarning: The input looks more like a filename than markup. You may want to open this file and pass the filehandle into Beautiful Soup.\n",
      "  warnings.warn(\n",
      "/Users/matthewbone/Documents/Coding/VSCode/FSDS22/fsd22env/lib/python3.9/site-packages/bs4/__init__.py:435: MarkupResemblesLocatorWarning: The input looks more like a filename than markup. You may want to open this file and pass the filehandle into Beautiful Soup.\n",
      "  warnings.warn(\n",
      "/Users/matthewbone/Documents/Coding/VSCode/FSDS22/fsd22env/lib/python3.9/site-packages/bs4/__init__.py:435: MarkupResemblesLocatorWarning: The input looks more like a filename than markup. You may want to open this file and pass the filehandle into Beautiful Soup.\n",
      "  warnings.warn(\n",
      "/Users/matthewbone/Documents/Coding/VSCode/FSDS22/fsd22env/lib/python3.9/site-packages/bs4/__init__.py:435: MarkupResemblesLocatorWarning: The input looks more like a filename than markup. You may want to open this file and pass the filehandle into Beautiful Soup.\n",
      "  warnings.warn(\n",
      "/Users/matthewbone/Documents/Coding/VSCode/FSDS22/fsd22env/lib/python3.9/site-packages/bs4/__init__.py:435: MarkupResemblesLocatorWarning: The input looks more like a filename than markup. You may want to open this file and pass the filehandle into Beautiful Soup.\n",
      "  warnings.warn(\n",
      "/Users/matthewbone/Documents/Coding/VSCode/FSDS22/fsd22env/lib/python3.9/site-packages/bs4/__init__.py:435: MarkupResemblesLocatorWarning: The input looks more like a filename than markup. You may want to open this file and pass the filehandle into Beautiful Soup.\n",
      "  warnings.warn(\n",
      "/Users/matthewbone/Documents/Coding/VSCode/FSDS22/fsd22env/lib/python3.9/site-packages/bs4/__init__.py:435: MarkupResemblesLocatorWarning: The input looks more like a filename than markup. You may want to open this file and pass the filehandle into Beautiful Soup.\n",
      "  warnings.warn(\n",
      "/Users/matthewbone/Documents/Coding/VSCode/FSDS22/fsd22env/lib/python3.9/site-packages/bs4/__init__.py:435: MarkupResemblesLocatorWarning: The input looks more like a filename than markup. You may want to open this file and pass the filehandle into Beautiful Soup.\n",
      "  warnings.warn(\n",
      "/Users/matthewbone/Documents/Coding/VSCode/FSDS22/fsd22env/lib/python3.9/site-packages/bs4/__init__.py:435: MarkupResemblesLocatorWarning: The input looks more like a filename than markup. You may want to open this file and pass the filehandle into Beautiful Soup.\n",
      "  warnings.warn(\n",
      "/Users/matthewbone/Documents/Coding/VSCode/FSDS22/fsd22env/lib/python3.9/site-packages/bs4/__init__.py:435: MarkupResemblesLocatorWarning: The input looks more like a filename than markup. You may want to open this file and pass the filehandle into Beautiful Soup.\n",
      "  warnings.warn(\n",
      "/Users/matthewbone/Documents/Coding/VSCode/FSDS22/fsd22env/lib/python3.9/site-packages/bs4/__init__.py:435: MarkupResemblesLocatorWarning: The input looks more like a filename than markup. You may want to open this file and pass the filehandle into Beautiful Soup.\n",
      "  warnings.warn(\n",
      "/Users/matthewbone/Documents/Coding/VSCode/FSDS22/fsd22env/lib/python3.9/site-packages/bs4/__init__.py:435: MarkupResemblesLocatorWarning: The input looks more like a filename than markup. You may want to open this file and pass the filehandle into Beautiful Soup.\n",
      "  warnings.warn(\n",
      "/Users/matthewbone/Documents/Coding/VSCode/FSDS22/fsd22env/lib/python3.9/site-packages/bs4/__init__.py:435: MarkupResemblesLocatorWarning: The input looks more like a filename than markup. You may want to open this file and pass the filehandle into Beautiful Soup.\n",
      "  warnings.warn(\n",
      "/Users/matthewbone/Documents/Coding/VSCode/FSDS22/fsd22env/lib/python3.9/site-packages/bs4/__init__.py:435: MarkupResemblesLocatorWarning: The input looks more like a filename than markup. You may want to open this file and pass the filehandle into Beautiful Soup.\n",
      "  warnings.warn(\n",
      "/Users/matthewbone/Documents/Coding/VSCode/FSDS22/fsd22env/lib/python3.9/site-packages/bs4/__init__.py:435: MarkupResemblesLocatorWarning: The input looks more like a filename than markup. You may want to open this file and pass the filehandle into Beautiful Soup.\n",
      "  warnings.warn(\n",
      "/Users/matthewbone/Documents/Coding/VSCode/FSDS22/fsd22env/lib/python3.9/site-packages/bs4/__init__.py:435: MarkupResemblesLocatorWarning: The input looks more like a filename than markup. You may want to open this file and pass the filehandle into Beautiful Soup.\n",
      "  warnings.warn(\n",
      "/Users/matthewbone/Documents/Coding/VSCode/FSDS22/fsd22env/lib/python3.9/site-packages/bs4/__init__.py:435: MarkupResemblesLocatorWarning: The input looks more like a filename than markup. You may want to open this file and pass the filehandle into Beautiful Soup.\n",
      "  warnings.warn(\n",
      "/Users/matthewbone/Documents/Coding/VSCode/FSDS22/fsd22env/lib/python3.9/site-packages/bs4/__init__.py:435: MarkupResemblesLocatorWarning: The input looks more like a filename than markup. You may want to open this file and pass the filehandle into Beautiful Soup.\n",
      "  warnings.warn(\n",
      "/Users/matthewbone/Documents/Coding/VSCode/FSDS22/fsd22env/lib/python3.9/site-packages/bs4/__init__.py:435: MarkupResemblesLocatorWarning: The input looks more like a filename than markup. You may want to open this file and pass the filehandle into Beautiful Soup.\n",
      "  warnings.warn(\n",
      "/Users/matthewbone/Documents/Coding/VSCode/FSDS22/fsd22env/lib/python3.9/site-packages/bs4/__init__.py:435: MarkupResemblesLocatorWarning: The input looks more like a filename than markup. You may want to open this file and pass the filehandle into Beautiful Soup.\n",
      "  warnings.warn(\n",
      "/Users/matthewbone/Documents/Coding/VSCode/FSDS22/fsd22env/lib/python3.9/site-packages/bs4/__init__.py:435: MarkupResemblesLocatorWarning: The input looks more like a filename than markup. You may want to open this file and pass the filehandle into Beautiful Soup.\n",
      "  warnings.warn(\n",
      "/Users/matthewbone/Documents/Coding/VSCode/FSDS22/fsd22env/lib/python3.9/site-packages/bs4/__init__.py:435: MarkupResemblesLocatorWarning: The input looks more like a filename than markup. You may want to open this file and pass the filehandle into Beautiful Soup.\n",
      "  warnings.warn(\n"
     ]
    },
    {
     "name": "stdout",
     "output_type": "stream",
     "text": [
      "Request Failed: 404\n",
      "something failed for ja\n"
     ]
    },
    {
     "name": "stderr",
     "output_type": "stream",
     "text": [
      "/Users/matthewbone/Documents/Coding/VSCode/FSDS22/fsd22env/lib/python3.9/site-packages/bs4/__init__.py:435: MarkupResemblesLocatorWarning: The input looks more like a filename than markup. You may want to open this file and pass the filehandle into Beautiful Soup.\n",
      "  warnings.warn(\n",
      "/Users/matthewbone/Documents/Coding/VSCode/FSDS22/fsd22env/lib/python3.9/site-packages/bs4/__init__.py:435: MarkupResemblesLocatorWarning: The input looks more like a filename than markup. You may want to open this file and pass the filehandle into Beautiful Soup.\n",
      "  warnings.warn(\n",
      "/Users/matthewbone/Documents/Coding/VSCode/FSDS22/fsd22env/lib/python3.9/site-packages/bs4/__init__.py:435: MarkupResemblesLocatorWarning: The input looks more like a filename than markup. You may want to open this file and pass the filehandle into Beautiful Soup.\n",
      "  warnings.warn(\n",
      "/Users/matthewbone/Documents/Coding/VSCode/FSDS22/fsd22env/lib/python3.9/site-packages/bs4/__init__.py:404: MarkupResemblesLocatorWarning: The input looks more like a URL than markup. You may want to use an HTTP client like requests to get the document behind the URL, and feed that document to Beautiful Soup.\n",
      "  warnings.warn(\n",
      "/Users/matthewbone/Documents/Coding/VSCode/FSDS22/fsd22env/lib/python3.9/site-packages/bs4/__init__.py:435: MarkupResemblesLocatorWarning: The input looks more like a filename than markup. You may want to open this file and pass the filehandle into Beautiful Soup.\n",
      "  warnings.warn(\n",
      "/Users/matthewbone/Documents/Coding/VSCode/FSDS22/fsd22env/lib/python3.9/site-packages/bs4/__init__.py:435: MarkupResemblesLocatorWarning: The input looks more like a filename than markup. You may want to open this file and pass the filehandle into Beautiful Soup.\n",
      "  warnings.warn(\n",
      "/Users/matthewbone/Documents/Coding/VSCode/FSDS22/fsd22env/lib/python3.9/site-packages/bs4/__init__.py:435: MarkupResemblesLocatorWarning: The input looks more like a filename than markup. You may want to open this file and pass the filehandle into Beautiful Soup.\n",
      "  warnings.warn(\n",
      "/Users/matthewbone/Documents/Coding/VSCode/FSDS22/fsd22env/lib/python3.9/site-packages/bs4/__init__.py:435: MarkupResemblesLocatorWarning: The input looks more like a filename than markup. You may want to open this file and pass the filehandle into Beautiful Soup.\n",
      "  warnings.warn(\n"
     ]
    },
    {
     "name": "stdout",
     "output_type": "stream",
     "text": [
      "Request Failed: 404\n",
      "something failed for license\n"
     ]
    },
    {
     "name": "stderr",
     "output_type": "stream",
     "text": [
      "/Users/matthewbone/Documents/Coding/VSCode/FSDS22/fsd22env/lib/python3.9/site-packages/bs4/__init__.py:435: MarkupResemblesLocatorWarning: The input looks more like a filename than markup. You may want to open this file and pass the filehandle into Beautiful Soup.\n",
      "  warnings.warn(\n",
      "/Users/matthewbone/Documents/Coding/VSCode/FSDS22/fsd22env/lib/python3.9/site-packages/bs4/__init__.py:435: MarkupResemblesLocatorWarning: The input looks more like a filename than markup. You may want to open this file and pass the filehandle into Beautiful Soup.\n",
      "  warnings.warn(\n",
      "/Users/matthewbone/Documents/Coding/VSCode/FSDS22/fsd22env/lib/python3.9/site-packages/bs4/__init__.py:435: MarkupResemblesLocatorWarning: The input looks more like a filename than markup. You may want to open this file and pass the filehandle into Beautiful Soup.\n",
      "  warnings.warn(\n"
     ]
    },
    {
     "name": "stdout",
     "output_type": "stream",
     "text": [
      "Request Failed: 404\n",
      "something failed for logo-stackoverflow\n",
      "Request Failed: 404\n",
      "something failed for logo-stackoverflow_thumb\n"
     ]
    },
    {
     "name": "stderr",
     "output_type": "stream",
     "text": [
      "/Users/matthewbone/Documents/Coding/VSCode/FSDS22/fsd22env/lib/python3.9/site-packages/bs4/__init__.py:435: MarkupResemblesLocatorWarning: The input looks more like a filename than markup. You may want to open this file and pass the filehandle into Beautiful Soup.\n",
      "  warnings.warn(\n",
      "/Users/matthewbone/Documents/Coding/VSCode/FSDS22/fsd22env/lib/python3.9/site-packages/bs4/__init__.py:435: MarkupResemblesLocatorWarning: The input looks more like a filename than markup. You may want to open this file and pass the filehandle into Beautiful Soup.\n",
      "  warnings.warn(\n",
      "/Users/matthewbone/Documents/Coding/VSCode/FSDS22/fsd22env/lib/python3.9/site-packages/bs4/__init__.py:435: MarkupResemblesLocatorWarning: The input looks more like a filename than markup. You may want to open this file and pass the filehandle into Beautiful Soup.\n",
      "  warnings.warn(\n",
      "/Users/matthewbone/Documents/Coding/VSCode/FSDS22/fsd22env/lib/python3.9/site-packages/bs4/__init__.py:435: MarkupResemblesLocatorWarning: The input looks more like a filename than markup. You may want to open this file and pass the filehandle into Beautiful Soup.\n",
      "  warnings.warn(\n",
      "/Users/matthewbone/Documents/Coding/VSCode/FSDS22/fsd22env/lib/python3.9/site-packages/bs4/__init__.py:404: MarkupResemblesLocatorWarning: The input looks more like a URL than markup. You may want to use an HTTP client like requests to get the document behind the URL, and feed that document to Beautiful Soup.\n",
      "  warnings.warn(\n"
     ]
    },
    {
     "name": "stdout",
     "output_type": "stream",
     "text": [
      "something failed for math\n"
     ]
    },
    {
     "name": "stderr",
     "output_type": "stream",
     "text": [
      "/Users/matthewbone/Documents/Coding/VSCode/FSDS22/fsd22env/lib/python3.9/site-packages/bs4/__init__.py:435: MarkupResemblesLocatorWarning: The input looks more like a filename than markup. You may want to open this file and pass the filehandle into Beautiful Soup.\n",
      "  warnings.warn(\n"
     ]
    },
    {
     "name": "stdout",
     "output_type": "stream",
     "text": [
      "Request Failed: 404\n",
      "something failed for mathoverflow\n"
     ]
    },
    {
     "name": "stderr",
     "output_type": "stream",
     "text": [
      "/Users/matthewbone/Documents/Coding/VSCode/FSDS22/fsd22env/lib/python3.9/site-packages/bs4/__init__.py:435: MarkupResemblesLocatorWarning: The input looks more like a filename than markup. You may want to open this file and pass the filehandle into Beautiful Soup.\n",
      "  warnings.warn(\n",
      "/Users/matthewbone/Documents/Coding/VSCode/FSDS22/fsd22env/lib/python3.9/site-packages/bs4/__init__.py:435: MarkupResemblesLocatorWarning: The input looks more like a filename than markup. You may want to open this file and pass the filehandle into Beautiful Soup.\n",
      "  warnings.warn(\n",
      "/Users/matthewbone/Documents/Coding/VSCode/FSDS22/fsd22env/lib/python3.9/site-packages/bs4/__init__.py:435: MarkupResemblesLocatorWarning: The input looks more like a filename than markup. You may want to open this file and pass the filehandle into Beautiful Soup.\n",
      "  warnings.warn(\n",
      "/Users/matthewbone/Documents/Coding/VSCode/FSDS22/fsd22env/lib/python3.9/site-packages/bs4/__init__.py:435: MarkupResemblesLocatorWarning: The input looks more like a filename than markup. You may want to open this file and pass the filehandle into Beautiful Soup.\n",
      "  warnings.warn(\n",
      "/Users/matthewbone/Documents/Coding/VSCode/FSDS22/fsd22env/lib/python3.9/site-packages/bs4/__init__.py:435: MarkupResemblesLocatorWarning: The input looks more like a filename than markup. You may want to open this file and pass the filehandle into Beautiful Soup.\n",
      "  warnings.warn(\n",
      "/Users/matthewbone/Documents/Coding/VSCode/FSDS22/fsd22env/lib/python3.9/site-packages/bs4/__init__.py:435: MarkupResemblesLocatorWarning: The input looks more like a filename than markup. You may want to open this file and pass the filehandle into Beautiful Soup.\n",
      "  warnings.warn(\n",
      "/Users/matthewbone/Documents/Coding/VSCode/FSDS22/fsd22env/lib/python3.9/site-packages/bs4/__init__.py:435: MarkupResemblesLocatorWarning: The input looks more like a filename than markup. You may want to open this file and pass the filehandle into Beautiful Soup.\n",
      "  warnings.warn(\n",
      "/Users/matthewbone/Documents/Coding/VSCode/FSDS22/fsd22env/lib/python3.9/site-packages/bs4/__init__.py:435: MarkupResemblesLocatorWarning: The input looks more like a filename than markup. You may want to open this file and pass the filehandle into Beautiful Soup.\n",
      "  warnings.warn(\n",
      "/Users/matthewbone/Documents/Coding/VSCode/FSDS22/fsd22env/lib/python3.9/site-packages/bs4/__init__.py:435: MarkupResemblesLocatorWarning: The input looks more like a filename than markup. You may want to open this file and pass the filehandle into Beautiful Soup.\n",
      "  warnings.warn(\n",
      "/Users/matthewbone/Documents/Coding/VSCode/FSDS22/fsd22env/lib/python3.9/site-packages/bs4/__init__.py:435: MarkupResemblesLocatorWarning: The input looks more like a filename than markup. You may want to open this file and pass the filehandle into Beautiful Soup.\n",
      "  warnings.warn(\n",
      "/Users/matthewbone/Documents/Coding/VSCode/FSDS22/fsd22env/lib/python3.9/site-packages/bs4/__init__.py:435: MarkupResemblesLocatorWarning: The input looks more like a filename than markup. You may want to open this file and pass the filehandle into Beautiful Soup.\n",
      "  warnings.warn(\n",
      "/Users/matthewbone/Documents/Coding/VSCode/FSDS22/fsd22env/lib/python3.9/site-packages/bs4/__init__.py:435: MarkupResemblesLocatorWarning: The input looks more like a filename than markup. You may want to open this file and pass the filehandle into Beautiful Soup.\n",
      "  warnings.warn(\n",
      "/Users/matthewbone/Documents/Coding/VSCode/FSDS22/fsd22env/lib/python3.9/site-packages/bs4/__init__.py:435: MarkupResemblesLocatorWarning: The input looks more like a filename than markup. You may want to open this file and pass the filehandle into Beautiful Soup.\n",
      "  warnings.warn(\n",
      "/Users/matthewbone/Documents/Coding/VSCode/FSDS22/fsd22env/lib/python3.9/site-packages/bs4/__init__.py:435: MarkupResemblesLocatorWarning: The input looks more like a filename than markup. You may want to open this file and pass the filehandle into Beautiful Soup.\n",
      "  warnings.warn(\n",
      "/Users/matthewbone/Documents/Coding/VSCode/FSDS22/fsd22env/lib/python3.9/site-packages/bs4/__init__.py:435: MarkupResemblesLocatorWarning: The input looks more like a filename than markup. You may want to open this file and pass the filehandle into Beautiful Soup.\n",
      "  warnings.warn(\n",
      "/Users/matthewbone/Documents/Coding/VSCode/FSDS22/fsd22env/lib/python3.9/site-packages/bs4/__init__.py:435: MarkupResemblesLocatorWarning: The input looks more like a filename than markup. You may want to open this file and pass the filehandle into Beautiful Soup.\n",
      "  warnings.warn(\n",
      "/Users/matthewbone/Documents/Coding/VSCode/FSDS22/fsd22env/lib/python3.9/site-packages/bs4/__init__.py:435: MarkupResemblesLocatorWarning: The input looks more like a filename than markup. You may want to open this file and pass the filehandle into Beautiful Soup.\n",
      "  warnings.warn(\n",
      "/Users/matthewbone/Documents/Coding/VSCode/FSDS22/fsd22env/lib/python3.9/site-packages/bs4/__init__.py:435: MarkupResemblesLocatorWarning: The input looks more like a filename than markup. You may want to open this file and pass the filehandle into Beautiful Soup.\n",
      "  warnings.warn(\n",
      "/Users/matthewbone/Documents/Coding/VSCode/FSDS22/fsd22env/lib/python3.9/site-packages/bs4/__init__.py:435: MarkupResemblesLocatorWarning: The input looks more like a filename than markup. You may want to open this file and pass the filehandle into Beautiful Soup.\n",
      "  warnings.warn(\n",
      "/Users/matthewbone/Documents/Coding/VSCode/FSDS22/fsd22env/lib/python3.9/site-packages/bs4/__init__.py:435: MarkupResemblesLocatorWarning: The input looks more like a filename than markup. You may want to open this file and pass the filehandle into Beautiful Soup.\n",
      "  warnings.warn(\n",
      "/Users/matthewbone/Documents/Coding/VSCode/FSDS22/fsd22env/lib/python3.9/site-packages/bs4/__init__.py:404: MarkupResemblesLocatorWarning: The input looks more like a URL than markup. You may want to use an HTTP client like requests to get the document behind the URL, and feed that document to Beautiful Soup.\n",
      "  warnings.warn(\n",
      "/Users/matthewbone/Documents/Coding/VSCode/FSDS22/fsd22env/lib/python3.9/site-packages/bs4/__init__.py:435: MarkupResemblesLocatorWarning: The input looks more like a filename than markup. You may want to open this file and pass the filehandle into Beautiful Soup.\n",
      "  warnings.warn(\n",
      "/Users/matthewbone/Documents/Coding/VSCode/FSDS22/fsd22env/lib/python3.9/site-packages/bs4/__init__.py:435: MarkupResemblesLocatorWarning: The input looks more like a filename than markup. You may want to open this file and pass the filehandle into Beautiful Soup.\n",
      "  warnings.warn(\n",
      "/Users/matthewbone/Documents/Coding/VSCode/FSDS22/fsd22env/lib/python3.9/site-packages/bs4/__init__.py:435: MarkupResemblesLocatorWarning: The input looks more like a filename than markup. You may want to open this file and pass the filehandle into Beautiful Soup.\n",
      "  warnings.warn(\n",
      "/Users/matthewbone/Documents/Coding/VSCode/FSDS22/fsd22env/lib/python3.9/site-packages/bs4/__init__.py:435: MarkupResemblesLocatorWarning: The input looks more like a filename than markup. You may want to open this file and pass the filehandle into Beautiful Soup.\n",
      "  warnings.warn(\n",
      "/Users/matthewbone/Documents/Coding/VSCode/FSDS22/fsd22env/lib/python3.9/site-packages/bs4/__init__.py:435: MarkupResemblesLocatorWarning: The input looks more like a filename than markup. You may want to open this file and pass the filehandle into Beautiful Soup.\n",
      "  warnings.warn(\n"
     ]
    },
    {
     "name": "stdout",
     "output_type": "stream",
     "text": [
      "Request Failed: 404\n",
      "something failed for pt\n"
     ]
    },
    {
     "name": "stderr",
     "output_type": "stream",
     "text": [
      "/Users/matthewbone/Documents/Coding/VSCode/FSDS22/fsd22env/lib/python3.9/site-packages/bs4/__init__.py:435: MarkupResemblesLocatorWarning: The input looks more like a filename than markup. You may want to open this file and pass the filehandle into Beautiful Soup.\n",
      "  warnings.warn(\n",
      "/Users/matthewbone/Documents/Coding/VSCode/FSDS22/fsd22env/lib/python3.9/site-packages/bs4/__init__.py:435: MarkupResemblesLocatorWarning: The input looks more like a filename than markup. You may want to open this file and pass the filehandle into Beautiful Soup.\n",
      "  warnings.warn(\n",
      "/Users/matthewbone/Documents/Coding/VSCode/FSDS22/fsd22env/lib/python3.9/site-packages/bs4/__init__.py:435: MarkupResemblesLocatorWarning: The input looks more like a filename than markup. You may want to open this file and pass the filehandle into Beautiful Soup.\n",
      "  warnings.warn(\n",
      "/Users/matthewbone/Documents/Coding/VSCode/FSDS22/fsd22env/lib/python3.9/site-packages/bs4/__init__.py:435: MarkupResemblesLocatorWarning: The input looks more like a filename than markup. You may want to open this file and pass the filehandle into Beautiful Soup.\n",
      "  warnings.warn(\n"
     ]
    },
    {
     "name": "stdout",
     "output_type": "stream",
     "text": [
      "Request Failed: 404\n",
      "something failed for readme\n"
     ]
    },
    {
     "name": "stderr",
     "output_type": "stream",
     "text": [
      "/Users/matthewbone/Documents/Coding/VSCode/FSDS22/fsd22env/lib/python3.9/site-packages/bs4/__init__.py:435: MarkupResemblesLocatorWarning: The input looks more like a filename than markup. You may want to open this file and pass the filehandle into Beautiful Soup.\n",
      "  warnings.warn(\n",
      "/Users/matthewbone/Documents/Coding/VSCode/FSDS22/fsd22env/lib/python3.9/site-packages/bs4/__init__.py:435: MarkupResemblesLocatorWarning: The input looks more like a filename than markup. You may want to open this file and pass the filehandle into Beautiful Soup.\n",
      "  warnings.warn(\n",
      "/Users/matthewbone/Documents/Coding/VSCode/FSDS22/fsd22env/lib/python3.9/site-packages/bs4/__init__.py:435: MarkupResemblesLocatorWarning: The input looks more like a filename than markup. You may want to open this file and pass the filehandle into Beautiful Soup.\n",
      "  warnings.warn(\n",
      "/Users/matthewbone/Documents/Coding/VSCode/FSDS22/fsd22env/lib/python3.9/site-packages/bs4/__init__.py:435: MarkupResemblesLocatorWarning: The input looks more like a filename than markup. You may want to open this file and pass the filehandle into Beautiful Soup.\n",
      "  warnings.warn(\n"
     ]
    },
    {
     "name": "stdout",
     "output_type": "stream",
     "text": [
      "Request Failed: 404\n",
      "something failed for ru\n"
     ]
    },
    {
     "name": "stderr",
     "output_type": "stream",
     "text": [
      "/Users/matthewbone/Documents/Coding/VSCode/FSDS22/fsd22env/lib/python3.9/site-packages/bs4/__init__.py:435: MarkupResemblesLocatorWarning: The input looks more like a filename than markup. You may want to open this file and pass the filehandle into Beautiful Soup.\n",
      "  warnings.warn(\n",
      "/Users/matthewbone/Documents/Coding/VSCode/FSDS22/fsd22env/lib/python3.9/site-packages/bs4/__init__.py:435: MarkupResemblesLocatorWarning: The input looks more like a filename than markup. You may want to open this file and pass the filehandle into Beautiful Soup.\n",
      "  warnings.warn(\n",
      "/Users/matthewbone/Documents/Coding/VSCode/FSDS22/fsd22env/lib/python3.9/site-packages/bs4/__init__.py:435: MarkupResemblesLocatorWarning: The input looks more like a filename than markup. You may want to open this file and pass the filehandle into Beautiful Soup.\n",
      "  warnings.warn(\n",
      "/Users/matthewbone/Documents/Coding/VSCode/FSDS22/fsd22env/lib/python3.9/site-packages/bs4/__init__.py:435: MarkupResemblesLocatorWarning: The input looks more like a filename than markup. You may want to open this file and pass the filehandle into Beautiful Soup.\n",
      "  warnings.warn(\n",
      "/Users/matthewbone/Documents/Coding/VSCode/FSDS22/fsd22env/lib/python3.9/site-packages/bs4/__init__.py:435: MarkupResemblesLocatorWarning: The input looks more like a filename than markup. You may want to open this file and pass the filehandle into Beautiful Soup.\n",
      "  warnings.warn(\n"
     ]
    },
    {
     "name": "stdout",
     "output_type": "stream",
     "text": [
      "Request Failed: 404\n",
      "something failed for se-icon\n",
      "Request Failed: 404\n",
      "something failed for se-logo\n"
     ]
    },
    {
     "name": "stderr",
     "output_type": "stream",
     "text": [
      "/Users/matthewbone/Documents/Coding/VSCode/FSDS22/fsd22env/lib/python3.9/site-packages/bs4/__init__.py:435: MarkupResemblesLocatorWarning: The input looks more like a filename than markup. You may want to open this file and pass the filehandle into Beautiful Soup.\n",
      "  warnings.warn(\n"
     ]
    },
    {
     "name": "stdout",
     "output_type": "stream",
     "text": [
      "Request Failed: 404\n",
      "something failed for serverfault\n"
     ]
    },
    {
     "name": "stderr",
     "output_type": "stream",
     "text": [
      "/Users/matthewbone/Documents/Coding/VSCode/FSDS22/fsd22env/lib/python3.9/site-packages/bs4/__init__.py:435: MarkupResemblesLocatorWarning: The input looks more like a filename than markup. You may want to open this file and pass the filehandle into Beautiful Soup.\n",
      "  warnings.warn(\n",
      "/Users/matthewbone/Documents/Coding/VSCode/FSDS22/fsd22env/lib/python3.9/site-packages/bs4/__init__.py:435: MarkupResemblesLocatorWarning: The input looks more like a filename than markup. You may want to open this file and pass the filehandle into Beautiful Soup.\n",
      "  warnings.warn(\n",
      "/Users/matthewbone/Documents/Coding/VSCode/FSDS22/fsd22env/lib/python3.9/site-packages/bs4/__init__.py:435: MarkupResemblesLocatorWarning: The input looks more like a filename than markup. You may want to open this file and pass the filehandle into Beautiful Soup.\n",
      "  warnings.warn(\n",
      "/Users/matthewbone/Documents/Coding/VSCode/FSDS22/fsd22env/lib/python3.9/site-packages/bs4/__init__.py:404: MarkupResemblesLocatorWarning: The input looks more like a URL than markup. You may want to use an HTTP client like requests to get the document behind the URL, and feed that document to Beautiful Soup.\n",
      "  warnings.warn(\n",
      "/Users/matthewbone/Documents/Coding/VSCode/FSDS22/fsd22env/lib/python3.9/site-packages/bs4/__init__.py:435: MarkupResemblesLocatorWarning: The input looks more like a filename than markup. You may want to open this file and pass the filehandle into Beautiful Soup.\n",
      "  warnings.warn(\n",
      "/Users/matthewbone/Documents/Coding/VSCode/FSDS22/fsd22env/lib/python3.9/site-packages/bs4/__init__.py:435: MarkupResemblesLocatorWarning: The input looks more like a filename than markup. You may want to open this file and pass the filehandle into Beautiful Soup.\n",
      "  warnings.warn(\n",
      "/Users/matthewbone/Documents/Coding/VSCode/FSDS22/fsd22env/lib/python3.9/site-packages/bs4/__init__.py:435: MarkupResemblesLocatorWarning: The input looks more like a filename than markup. You may want to open this file and pass the filehandle into Beautiful Soup.\n",
      "  warnings.warn(\n",
      "/Users/matthewbone/Documents/Coding/VSCode/FSDS22/fsd22env/lib/python3.9/site-packages/bs4/__init__.py:435: MarkupResemblesLocatorWarning: The input looks more like a filename than markup. You may want to open this file and pass the filehandle into Beautiful Soup.\n",
      "  warnings.warn(\n",
      "/Users/matthewbone/Documents/Coding/VSCode/FSDS22/fsd22env/lib/python3.9/site-packages/bs4/__init__.py:435: MarkupResemblesLocatorWarning: The input looks more like a filename than markup. You may want to open this file and pass the filehandle into Beautiful Soup.\n",
      "  warnings.warn(\n",
      "/Users/matthewbone/Documents/Coding/VSCode/FSDS22/fsd22env/lib/python3.9/site-packages/bs4/__init__.py:435: MarkupResemblesLocatorWarning: The input looks more like a filename than markup. You may want to open this file and pass the filehandle into Beautiful Soup.\n",
      "  warnings.warn(\n",
      "/Users/matthewbone/Documents/Coding/VSCode/FSDS22/fsd22env/lib/python3.9/site-packages/bs4/__init__.py:435: MarkupResemblesLocatorWarning: The input looks more like a filename than markup. You may want to open this file and pass the filehandle into Beautiful Soup.\n",
      "  warnings.warn(\n",
      "/Users/matthewbone/Documents/Coding/VSCode/FSDS22/fsd22env/lib/python3.9/site-packages/bs4/__init__.py:435: MarkupResemblesLocatorWarning: The input looks more like a filename than markup. You may want to open this file and pass the filehandle into Beautiful Soup.\n",
      "  warnings.warn(\n"
     ]
    },
    {
     "name": "stdout",
     "output_type": "stream",
     "text": [
      "Request Failed: 404\n",
      "something failed for stackapps\n",
      "Request Failed: 404\n",
      "something failed for stackexchange_archive\n",
      "Request Failed: 404\n",
      "something failed for stackexchange_files\n",
      "Request Failed: 404\n",
      "something failed for stackexchange_meta\n",
      "Request Failed: 404\n",
      "something failed for stackexchange_reviews\n",
      "Request Failed: 404\n",
      "something failed for stackoverflow\n"
     ]
    },
    {
     "name": "stderr",
     "output_type": "stream",
     "text": [
      "/Users/matthewbone/Documents/Coding/VSCode/FSDS22/fsd22env/lib/python3.9/site-packages/bs4/__init__.py:435: MarkupResemblesLocatorWarning: The input looks more like a filename than markup. You may want to open this file and pass the filehandle into Beautiful Soup.\n",
      "  warnings.warn(\n",
      "/Users/matthewbone/Documents/Coding/VSCode/FSDS22/fsd22env/lib/python3.9/site-packages/bs4/__init__.py:435: MarkupResemblesLocatorWarning: The input looks more like a filename than markup. You may want to open this file and pass the filehandle into Beautiful Soup.\n",
      "  warnings.warn(\n"
     ]
    },
    {
     "name": "stdout",
     "output_type": "stream",
     "text": [
      "Request Failed: 404\n",
      "something failed for superuser\n"
     ]
    },
    {
     "name": "stderr",
     "output_type": "stream",
     "text": [
      "/Users/matthewbone/Documents/Coding/VSCode/FSDS22/fsd22env/lib/python3.9/site-packages/bs4/__init__.py:435: MarkupResemblesLocatorWarning: The input looks more like a filename than markup. You may want to open this file and pass the filehandle into Beautiful Soup.\n",
      "  warnings.warn(\n",
      "/Users/matthewbone/Documents/Coding/VSCode/FSDS22/fsd22env/lib/python3.9/site-packages/bs4/__init__.py:435: MarkupResemblesLocatorWarning: The input looks more like a filename than markup. You may want to open this file and pass the filehandle into Beautiful Soup.\n",
      "  warnings.warn(\n",
      "/Users/matthewbone/Documents/Coding/VSCode/FSDS22/fsd22env/lib/python3.9/site-packages/bs4/__init__.py:435: MarkupResemblesLocatorWarning: The input looks more like a filename than markup. You may want to open this file and pass the filehandle into Beautiful Soup.\n",
      "  warnings.warn(\n",
      "/Users/matthewbone/Documents/Coding/VSCode/FSDS22/fsd22env/lib/python3.9/site-packages/bs4/__init__.py:435: MarkupResemblesLocatorWarning: The input looks more like a filename than markup. You may want to open this file and pass the filehandle into Beautiful Soup.\n",
      "  warnings.warn(\n",
      "/Users/matthewbone/Documents/Coding/VSCode/FSDS22/fsd22env/lib/python3.9/site-packages/bs4/__init__.py:435: MarkupResemblesLocatorWarning: The input looks more like a filename than markup. You may want to open this file and pass the filehandle into Beautiful Soup.\n",
      "  warnings.warn(\n",
      "/Users/matthewbone/Documents/Coding/VSCode/FSDS22/fsd22env/lib/python3.9/site-packages/bs4/__init__.py:435: MarkupResemblesLocatorWarning: The input looks more like a filename than markup. You may want to open this file and pass the filehandle into Beautiful Soup.\n",
      "  warnings.warn(\n",
      "/Users/matthewbone/Documents/Coding/VSCode/FSDS22/fsd22env/lib/python3.9/site-packages/bs4/__init__.py:435: MarkupResemblesLocatorWarning: The input looks more like a filename than markup. You may want to open this file and pass the filehandle into Beautiful Soup.\n",
      "  warnings.warn(\n",
      "/Users/matthewbone/Documents/Coding/VSCode/FSDS22/fsd22env/lib/python3.9/site-packages/bs4/__init__.py:435: MarkupResemblesLocatorWarning: The input looks more like a filename than markup. You may want to open this file and pass the filehandle into Beautiful Soup.\n",
      "  warnings.warn(\n",
      "/Users/matthewbone/Documents/Coding/VSCode/FSDS22/fsd22env/lib/python3.9/site-packages/bs4/__init__.py:435: MarkupResemblesLocatorWarning: The input looks more like a filename than markup. You may want to open this file and pass the filehandle into Beautiful Soup.\n",
      "  warnings.warn(\n",
      "/Users/matthewbone/Documents/Coding/VSCode/FSDS22/fsd22env/lib/python3.9/site-packages/bs4/__init__.py:435: MarkupResemblesLocatorWarning: The input looks more like a filename than markup. You may want to open this file and pass the filehandle into Beautiful Soup.\n",
      "  warnings.warn(\n",
      "/Users/matthewbone/Documents/Coding/VSCode/FSDS22/fsd22env/lib/python3.9/site-packages/bs4/__init__.py:435: MarkupResemblesLocatorWarning: The input looks more like a filename than markup. You may want to open this file and pass the filehandle into Beautiful Soup.\n",
      "  warnings.warn(\n",
      "/Users/matthewbone/Documents/Coding/VSCode/FSDS22/fsd22env/lib/python3.9/site-packages/bs4/__init__.py:435: MarkupResemblesLocatorWarning: The input looks more like a filename than markup. You may want to open this file and pass the filehandle into Beautiful Soup.\n",
      "  warnings.warn(\n",
      "/Users/matthewbone/Documents/Coding/VSCode/FSDS22/fsd22env/lib/python3.9/site-packages/bs4/__init__.py:435: MarkupResemblesLocatorWarning: The input looks more like a filename than markup. You may want to open this file and pass the filehandle into Beautiful Soup.\n",
      "  warnings.warn(\n",
      "/Users/matthewbone/Documents/Coding/VSCode/FSDS22/fsd22env/lib/python3.9/site-packages/bs4/__init__.py:435: MarkupResemblesLocatorWarning: The input looks more like a filename than markup. You may want to open this file and pass the filehandle into Beautiful Soup.\n",
      "  warnings.warn(\n",
      "/Users/matthewbone/Documents/Coding/VSCode/FSDS22/fsd22env/lib/python3.9/site-packages/bs4/__init__.py:435: MarkupResemblesLocatorWarning: The input looks more like a filename than markup. You may want to open this file and pass the filehandle into Beautiful Soup.\n",
      "  warnings.warn(\n",
      "/Users/matthewbone/Documents/Coding/VSCode/FSDS22/fsd22env/lib/python3.9/site-packages/bs4/__init__.py:435: MarkupResemblesLocatorWarning: The input looks more like a filename than markup. You may want to open this file and pass the filehandle into Beautiful Soup.\n",
      "  warnings.warn(\n",
      "/Users/matthewbone/Documents/Coding/VSCode/FSDS22/fsd22env/lib/python3.9/site-packages/bs4/__init__.py:435: MarkupResemblesLocatorWarning: The input looks more like a filename than markup. You may want to open this file and pass the filehandle into Beautiful Soup.\n",
      "  warnings.warn(\n",
      "/Users/matthewbone/Documents/Coding/VSCode/FSDS22/fsd22env/lib/python3.9/site-packages/bs4/__init__.py:435: MarkupResemblesLocatorWarning: The input looks more like a filename than markup. You may want to open this file and pass the filehandle into Beautiful Soup.\n",
      "  warnings.warn(\n",
      "/Users/matthewbone/Documents/Coding/VSCode/FSDS22/fsd22env/lib/python3.9/site-packages/bs4/__init__.py:435: MarkupResemblesLocatorWarning: The input looks more like a filename than markup. You may want to open this file and pass the filehandle into Beautiful Soup.\n",
      "  warnings.warn(\n"
     ]
    },
    {
     "name": "stdout",
     "output_type": "stream",
     "text": [
      "Request Failed: 404\n",
      "something failed for {0}\n"
     ]
    }
   ],
   "source": [
    "# Try Challenge 2 below here \n",
    "\n",
    "stack_list = [\n",
    "    'movies',\n",
    "    'philosophy',\n",
    "    'pets'\n",
    "]\n",
    "\n",
    "def get_stack_data(stacks):\n",
    "\n",
    "    for stack in stacks:\n",
    "        try:\n",
    "            extract_stack(stack)\n",
    "            extract_data(stack)\n",
    "        except: print(f'something failed for {stack}')\n",
    "\n",
    "get_stack_data(['math'])  "
   ]
  }
 ],
 "metadata": {
  "kernelspec": {
   "display_name": "Python 3.9.13 ('fsd22env': venv)",
   "language": "python",
   "name": "python3"
  },
  "language_info": {
   "codemirror_mode": {
    "name": "ipython",
    "version": 3
   },
   "file_extension": ".py",
   "mimetype": "text/x-python",
   "name": "python",
   "nbconvert_exporter": "python",
   "pygments_lexer": "ipython3",
   "version": "3.9.13"
  },
  "toc-autonumbering": false,
  "vscode": {
   "interpreter": {
    "hash": "72ab57b0b5f2fd64aef2c7b60b3862b1a450b7cb33941b7430bf767e797b1ae3"
   }
  }
 },
 "nbformat": 4,
 "nbformat_minor": 5
}
