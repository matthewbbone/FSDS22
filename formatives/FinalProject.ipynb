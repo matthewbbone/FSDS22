{
 "cells": [
  {
   "cell_type": "code",
   "execution_count": 1,
   "metadata": {},
   "outputs": [],
   "source": [
    "from pathlib import Path\n",
    "import py7zr\n",
    "import requests as req\n",
    "import os\n",
    "import pandas as pd\n",
    "from lxml.etree import XMLParser, parse\n",
    "xmlparser = XMLParser(huge_tree=True)\n",
    "import xmltodict as xd\n",
    "import bs4\n",
    "import shutil\n",
    "import numpy as np\n",
    "from vaderSentiment.vaderSentiment import SentimentIntensityAnalyzer\n",
    "import scipy\n",
    "import matplotlib.pyplot as plt\n",
    "import seaborn as sns\n",
    "import plotly.express as px\n",
    "%matplotlib inline"
   ]
  },
  {
   "cell_type": "markdown",
   "metadata": {},
   "source": [
    "## Research Question\n",
    "\n",
    "All online communities have a unique set of members that differ both within and between communities. Generally, communities will thrive if they're either an enjoyable or useful place for people to go to interact with others in a virtual space, on the otherhand some online communities are known to be toxic or full of trolls. We're interested in how we could use sentiment analysis to characterize different stacks on stack exchange and what interesting community traits arise from this lens.\n",
    "\n",
    "Our specific research question is, are the distributions of post sentiment in different stack exchanges distinctly different from each other, and if so, what characterizes these distinctions?"
   ]
  },
  {
   "cell_type": "markdown",
   "metadata": {},
   "source": [
    "## Data Collection\n",
    "\n",
    "We decided to do a broad investigation by collecting all of the stacks available on this page: https://archive.org/download/stackexchange. From each stack (168), we took a random sample of 100 posts to analyze. This method allows us to analyze the full range of stacks without having an unwieldy amount of data. A random sample of N=100 should be sufficiently large to represent each stack."
   ]
  },
  {
   "cell_type": "code",
   "execution_count": 2,
   "metadata": {},
   "outputs": [],
   "source": [
    "def extract_stack(stack):\n",
    "\n",
    "    endpoint = f\"https://archive.org/download/stackexchange/{stack}.stackexchange.com.7z\"\n",
    "    res = req.get(endpoint, stream=True)\n",
    "    path = f\"../data/{stack}\"\n",
    "    filename = path + f\"/{stack}.7z\"\n",
    "\n",
    "    if res.status_code == 200:\n",
    "\n",
    "        if not Path(path).exists(): \n",
    "            Path(path).mkdir()\n",
    "\n",
    "        with open(filename, 'wb') as out:\n",
    "            out.write(res.content)\n",
    "\n",
    "        with py7zr.SevenZipFile(filename, mode='r') as z:\n",
    "            z.extractall(path)\n",
    "\n",
    "        os.remove(filename)\n",
    "\n",
    "    else: print(f\"Request Failed: {res.status_code}\")\n",
    "\n",
    "parse_dict = {\n",
    "    \"Id\": \"string\",\n",
    "    \"CreationDate\": \"datetime\",\n",
    "    \"Body\": \"text\",\n",
    "    \"Title\": \"string\",\n",
    "    \"DisplayName\": \"string\",\n",
    "    \"AccountId\": \"string\"\n",
    "}\n",
    "\n",
    "def clean_row(row):\n",
    "\n",
    "    cleaned_row = {}\n",
    "\n",
    "    for key, val in row.items():\n",
    "        \n",
    "        if key in parse_dict.keys():\n",
    "            var_type = parse_dict[key]\n",
    "            if var_type == \"string\": cleaned_row[key] = val\n",
    "            elif var_type == \"datetime\": cleaned_row[key] = pd.to_datetime(val)\n",
    "            elif var_type == \"text\": cleaned_row[key] = bs4.BeautifulSoup(val, \"lxml\").text.replace(\"\\n\",\" \")\n",
    "\n",
    "    return cleaned_row\n",
    "\n",
    "def xml_to_df(tree):\n",
    "\n",
    "    rows = tree.getroot().getchildren()\n",
    "    row_list = []\n",
    "    for row in rows:\n",
    "        cleaned = clean_row(dict(row.attrib))\n",
    "        row_list.append(cleaned)\n",
    "    return pd.DataFrame(row_list)\n",
    "\n",
    "\n",
    "def extract_data(stack):\n",
    "\n",
    "    path = f\"../data/{stack}\"\n",
    "    \n",
    "    post_tree = parse(path + '/Posts.xml', parser=xmlparser)\n",
    "    post_df = xml_to_df(post_tree)\n",
    "\n",
    "    user_tree = parse(path + '/Users.xml', parser=xmlparser)\n",
    "    user_df = xml_to_df(user_tree)\n",
    "\n",
    "    shutil.rmtree(path)\n",
    "    Path(path).mkdir()\n",
    "\n",
    "    post_df.to_pickle(f\"../data/{stack}/post_df.pkl\")\n",
    "    user_df.to_pickle(f\"../data/{stack}/user_df.pkl\")\n",
    "\n",
    "def get_stack_list():\n",
    "\n",
    "    ia = req.get('https://archive.org/download/stackexchange')\n",
    "    soup = bs4.BeautifulSoup(ia.content)\n",
    "    table = soup.find(class_= 'directory-listing-table')\n",
    "\n",
    "    stacks = []\n",
    "    for row in table.find_all('tr'):\n",
    "        name = row.find('td').text.split('.')[0]\n",
    "        stacks.append(name)\n",
    "\n",
    "    stacks = np.unique(stacks[1:])\n",
    "    return stacks\n",
    "\n",
    "def get_stack_data(stacks):\n",
    "\n",
    "    for stack in stacks:\n",
    "        try:\n",
    "            extract_stack(stack)\n",
    "            extract_data(stack)\n",
    "        except: print(f'something failed for {stack}')\n",
    "\n",
    "def combine_stack_data(stacks):\n",
    "\n",
    "     posts_df = pd.DataFrame()\n",
    "\n",
    "     for stack in stacks:\n",
    "\n",
    "          path = f\"../data/{stack}\"\n",
    "\n",
    "          if Path(path + '/post_df.pkl').exists():\n",
    "\n",
    "            temp_df = pd.read_pickle(path + '/post_df.pkl')\n",
    "            temp_df['stack'] = stack\n",
    "            if len(temp_df) > 100:\n",
    "                posts_df = pd.concat([posts_df, temp_df.sample(100)])\n",
    "            else: \n",
    "                posts_df = pd.concat([posts_df, temp_df])\n",
    "\n",
    "     return posts_df"
   ]
  },
  {
   "cell_type": "code",
   "execution_count": 3,
   "metadata": {},
   "outputs": [
    {
     "name": "stdout",
     "output_type": "stream",
     "text": [
      "There are 16800 posts in the dataset and 5 columns\n"
     ]
    },
    {
     "data": {
      "text/html": [
       "<div>\n",
       "<style scoped>\n",
       "    .dataframe tbody tr th:only-of-type {\n",
       "        vertical-align: middle;\n",
       "    }\n",
       "\n",
       "    .dataframe tbody tr th {\n",
       "        vertical-align: top;\n",
       "    }\n",
       "\n",
       "    .dataframe thead th {\n",
       "        text-align: right;\n",
       "    }\n",
       "</style>\n",
       "<table border=\"1\" class=\"dataframe\">\n",
       "  <thead>\n",
       "    <tr style=\"text-align: right;\">\n",
       "      <th></th>\n",
       "      <th>Id</th>\n",
       "      <th>CreationDate</th>\n",
       "      <th>Body</th>\n",
       "      <th>Title</th>\n",
       "      <th>stack</th>\n",
       "    </tr>\n",
       "  </thead>\n",
       "  <tbody>\n",
       "    <tr>\n",
       "      <th>4858</th>\n",
       "      <td>6598</td>\n",
       "      <td>2018-08-08 15:30:29.177</td>\n",
       "      <td>I change the stepper driver and that helped. O...</td>\n",
       "      <td>NaN</td>\n",
       "      <td>3dprinting</td>\n",
       "    </tr>\n",
       "    <tr>\n",
       "      <th>13537</th>\n",
       "      <td>19892</td>\n",
       "      <td>2022-09-10 08:42:02.967</td>\n",
       "      <td>I usually see Ender 3's set at 93 for the E-st...</td>\n",
       "      <td>New Ender 3 E-steps off by 367?</td>\n",
       "      <td>3dprinting</td>\n",
       "    </tr>\n",
       "    <tr>\n",
       "      <th>3747</th>\n",
       "      <td>5330</td>\n",
       "      <td>2018-01-23 06:26:02.883</td>\n",
       "      <td>So after 5 days of trouble shooting, Bob-the-K...</td>\n",
       "      <td>NaN</td>\n",
       "      <td>3dprinting</td>\n",
       "    </tr>\n",
       "    <tr>\n",
       "      <th>11733</th>\n",
       "      <td>16798</td>\n",
       "      <td>2021-07-26 11:26:21.853</td>\n",
       "      <td>As suggested in comments, I've installed Luke ...</td>\n",
       "      <td>NaN</td>\n",
       "      <td>3dprinting</td>\n",
       "    </tr>\n",
       "    <tr>\n",
       "      <th>537</th>\n",
       "      <td>556</td>\n",
       "      <td>2016-02-11 14:00:12.313</td>\n",
       "      <td>I had a repeatable problem where my prints wer...</td>\n",
       "      <td>NaN</td>\n",
       "      <td>3dprinting</td>\n",
       "    </tr>\n",
       "  </tbody>\n",
       "</table>\n",
       "</div>"
      ],
      "text/plain": [
       "          Id            CreationDate  \\\n",
       "4858    6598 2018-08-08 15:30:29.177   \n",
       "13537  19892 2022-09-10 08:42:02.967   \n",
       "3747    5330 2018-01-23 06:26:02.883   \n",
       "11733  16798 2021-07-26 11:26:21.853   \n",
       "537      556 2016-02-11 14:00:12.313   \n",
       "\n",
       "                                                    Body  \\\n",
       "4858   I change the stepper driver and that helped. O...   \n",
       "13537  I usually see Ender 3's set at 93 for the E-st...   \n",
       "3747   So after 5 days of trouble shooting, Bob-the-K...   \n",
       "11733  As suggested in comments, I've installed Luke ...   \n",
       "537    I had a repeatable problem where my prints wer...   \n",
       "\n",
       "                                 Title       stack  \n",
       "4858                               NaN  3dprinting  \n",
       "13537  New Ender 3 E-steps off by 367?  3dprinting  \n",
       "3747                               NaN  3dprinting  \n",
       "11733                              NaN  3dprinting  \n",
       "537                                NaN  3dprinting  "
      ]
     },
     "metadata": {},
     "output_type": "display_data"
    },
    {
     "name": "stdout",
     "output_type": "stream",
     "text": [
      "(16800, 5)\n"
     ]
    }
   ],
   "source": [
    "# stacks = get_stack_list()\n",
    "# get_stack_data(stacks)\n",
    "# stack_df = combine_stack_data(stacks)\n",
    "# stack_df.to_pickle('../data/stacks_df.pkl')\n",
    "stack_df = pd.read_pickle('../data/stacks_df.pkl')\n",
    "print(f\"There are {stack_df.shape[0]} posts in the dataset and {stack_df.shape[1]} columns\")\n",
    "display(stack_df.head(5))\n",
    "print(stack_df.shape)"
   ]
  },
  {
   "cell_type": "markdown",
   "metadata": {},
   "source": [
    "## Operationalizing Sentiment\n",
    "\n",
    "We decided to use the Vader Sentiment Analyzer to score each post's sentiment. We used the compound score since it captures both the upside (\"pos\" score) and downside (\"neg\" score) in one metric. We then aggregated these scores by stack to get an idea of what the range of stack-level sentiments is on the platform. \n",
    "\n",
    "Next, we took the stacks with the highest and lowest variance as we thought this could be an interesting way to characterize them. High variance stacks may have bimodal distributions which could indicate two distinct groups of \"negative\" and \"positive\" members within the community or it could simply be a wider normal distribution."
   ]
  },
  {
   "cell_type": "code",
   "execution_count": 4,
   "metadata": {},
   "outputs": [],
   "source": [
    "analyzer = SentimentIntensityAnalyzer()"
   ]
  },
  {
   "cell_type": "code",
   "execution_count": 5,
   "metadata": {},
   "outputs": [
    {
     "data": {
      "text/html": [
       "<div>\n",
       "<style scoped>\n",
       "    .dataframe tbody tr th:only-of-type {\n",
       "        vertical-align: middle;\n",
       "    }\n",
       "\n",
       "    .dataframe tbody tr th {\n",
       "        vertical-align: top;\n",
       "    }\n",
       "\n",
       "    .dataframe thead th {\n",
       "        text-align: right;\n",
       "    }\n",
       "</style>\n",
       "<table border=\"1\" class=\"dataframe\">\n",
       "  <thead>\n",
       "    <tr style=\"text-align: right;\">\n",
       "      <th></th>\n",
       "      <th>Body</th>\n",
       "      <th>pos</th>\n",
       "      <th>neg</th>\n",
       "      <th>compound</th>\n",
       "      <th>stack</th>\n",
       "    </tr>\n",
       "  </thead>\n",
       "  <tbody>\n",
       "    <tr>\n",
       "      <th>4858</th>\n",
       "      <td>I change the stepper driver and that helped. O...</td>\n",
       "      <td>0.000</td>\n",
       "      <td>0.000</td>\n",
       "      <td>0.0000</td>\n",
       "      <td>3dprinting</td>\n",
       "    </tr>\n",
       "    <tr>\n",
       "      <th>13537</th>\n",
       "      <td>I usually see Ender 3's set at 93 for the E-st...</td>\n",
       "      <td>0.087</td>\n",
       "      <td>0.055</td>\n",
       "      <td>0.7892</td>\n",
       "      <td>3dprinting</td>\n",
       "    </tr>\n",
       "    <tr>\n",
       "      <th>3747</th>\n",
       "      <td>So after 5 days of trouble shooting, Bob-the-K...</td>\n",
       "      <td>0.091</td>\n",
       "      <td>0.077</td>\n",
       "      <td>0.8049</td>\n",
       "      <td>3dprinting</td>\n",
       "    </tr>\n",
       "    <tr>\n",
       "      <th>11733</th>\n",
       "      <td>As suggested in comments, I've installed Luke ...</td>\n",
       "      <td>0.067</td>\n",
       "      <td>0.044</td>\n",
       "      <td>0.7266</td>\n",
       "      <td>3dprinting</td>\n",
       "    </tr>\n",
       "    <tr>\n",
       "      <th>537</th>\n",
       "      <td>I had a repeatable problem where my prints wer...</td>\n",
       "      <td>0.054</td>\n",
       "      <td>0.056</td>\n",
       "      <td>0.2144</td>\n",
       "      <td>3dprinting</td>\n",
       "    </tr>\n",
       "  </tbody>\n",
       "</table>\n",
       "</div>"
      ],
      "text/plain": [
       "                                                    Body    pos    neg  \\\n",
       "4858   I change the stepper driver and that helped. O...  0.000  0.000   \n",
       "13537  I usually see Ender 3's set at 93 for the E-st...  0.087  0.055   \n",
       "3747   So after 5 days of trouble shooting, Bob-the-K...  0.091  0.077   \n",
       "11733  As suggested in comments, I've installed Luke ...  0.067  0.044   \n",
       "537    I had a repeatable problem where my prints wer...  0.054  0.056   \n",
       "\n",
       "       compound       stack  \n",
       "4858     0.0000  3dprinting  \n",
       "13537    0.7892  3dprinting  \n",
       "3747     0.8049  3dprinting  \n",
       "11733    0.7266  3dprinting  \n",
       "537      0.2144  3dprinting  "
      ]
     },
     "metadata": {},
     "output_type": "display_data"
    }
   ],
   "source": [
    "sample_df = stack_df\n",
    "\n",
    "senti_sr = sample_df['Body'].map(\n",
    "    lambda text: analyzer.polarity_scores(text))\n",
    "\n",
    "senti_df = pd.json_normalize(senti_sr)\n",
    "senti_df.index = senti_sr.index\n",
    "\n",
    "sample_df = pd.concat([sample_df, senti_df],axis=1)\n",
    "\n",
    "display(sample_df[[\"Body\",\"pos\",\"neg\",\"compound\", \"stack\"]].head())"
   ]
  },
  {
   "cell_type": "code",
   "execution_count": 6,
   "metadata": {},
   "outputs": [
    {
     "name": "stderr",
     "output_type": "stream",
     "text": [
      "/var/folders/c5/1ykwfx953hdd7lps3nkt7myr0000gn/T/ipykernel_2839/1713557876.py:1: FutureWarning: The default value of numeric_only in DataFrameGroupBy.mean is deprecated. In a future version, numeric_only will default to False. Either specify numeric_only or select only columns which should be valid for the function.\n",
      "  mean_df = sample_df.groupby(\"stack\")[['stack', 'neg', 'pos','compound']].mean().reset_index()\n"
     ]
    },
    {
     "data": {
      "text/html": [
       "<div>\n",
       "<style scoped>\n",
       "    .dataframe tbody tr th:only-of-type {\n",
       "        vertical-align: middle;\n",
       "    }\n",
       "\n",
       "    .dataframe tbody tr th {\n",
       "        vertical-align: top;\n",
       "    }\n",
       "\n",
       "    .dataframe thead th {\n",
       "        text-align: right;\n",
       "    }\n",
       "</style>\n",
       "<table border=\"1\" class=\"dataframe\">\n",
       "  <thead>\n",
       "    <tr style=\"text-align: right;\">\n",
       "      <th></th>\n",
       "      <th>stack</th>\n",
       "      <th>neg</th>\n",
       "      <th>pos</th>\n",
       "      <th>compound</th>\n",
       "    </tr>\n",
       "  </thead>\n",
       "  <tbody>\n",
       "    <tr>\n",
       "      <th>119</th>\n",
       "      <td>portuguese</td>\n",
       "      <td>0.02726</td>\n",
       "      <td>0.01273</td>\n",
       "      <td>-0.201977</td>\n",
       "    </tr>\n",
       "    <tr>\n",
       "      <th>64</th>\n",
       "      <td>german</td>\n",
       "      <td>0.06585</td>\n",
       "      <td>0.04767</td>\n",
       "      <td>-0.113749</td>\n",
       "    </tr>\n",
       "    <tr>\n",
       "      <th>133</th>\n",
       "      <td>scifi</td>\n",
       "      <td>0.07790</td>\n",
       "      <td>0.06725</td>\n",
       "      <td>-0.111910</td>\n",
       "    </tr>\n",
       "    <tr>\n",
       "      <th>129</th>\n",
       "      <td>rus</td>\n",
       "      <td>0.00000</td>\n",
       "      <td>0.00274</td>\n",
       "      <td>0.016530</td>\n",
       "    </tr>\n",
       "    <tr>\n",
       "      <th>155</th>\n",
       "      <td>ukrainian</td>\n",
       "      <td>0.00069</td>\n",
       "      <td>0.00319</td>\n",
       "      <td>0.019794</td>\n",
       "    </tr>\n",
       "    <tr>\n",
       "      <th>137</th>\n",
       "      <td>skeptics</td>\n",
       "      <td>0.06596</td>\n",
       "      <td>0.06129</td>\n",
       "      <td>0.027053</td>\n",
       "    </tr>\n",
       "    <tr>\n",
       "      <th>79</th>\n",
       "      <td>italian</td>\n",
       "      <td>0.02528</td>\n",
       "      <td>0.03035</td>\n",
       "      <td>0.029591</td>\n",
       "    </tr>\n",
       "    <tr>\n",
       "      <th>86</th>\n",
       "      <td>law</td>\n",
       "      <td>0.07457</td>\n",
       "      <td>0.07464</td>\n",
       "      <td>0.031481</td>\n",
       "    </tr>\n",
       "    <tr>\n",
       "      <th>59</th>\n",
       "      <td>french</td>\n",
       "      <td>0.02316</td>\n",
       "      <td>0.03045</td>\n",
       "      <td>0.040094</td>\n",
       "    </tr>\n",
       "    <tr>\n",
       "      <th>143</th>\n",
       "      <td>spanish</td>\n",
       "      <td>0.03085</td>\n",
       "      <td>0.05317</td>\n",
       "      <td>0.055214</td>\n",
       "    </tr>\n",
       "  </tbody>\n",
       "</table>\n",
       "</div>"
      ],
      "text/plain": [
       "          stack      neg      pos  compound\n",
       "119  portuguese  0.02726  0.01273 -0.201977\n",
       "64       german  0.06585  0.04767 -0.113749\n",
       "133       scifi  0.07790  0.06725 -0.111910\n",
       "129         rus  0.00000  0.00274  0.016530\n",
       "155   ukrainian  0.00069  0.00319  0.019794\n",
       "137    skeptics  0.06596  0.06129  0.027053\n",
       "79      italian  0.02528  0.03035  0.029591\n",
       "86          law  0.07457  0.07464  0.031481\n",
       "59       french  0.02316  0.03045  0.040094\n",
       "143     spanish  0.03085  0.05317  0.055214"
      ]
     },
     "execution_count": 6,
     "metadata": {},
     "output_type": "execute_result"
    }
   ],
   "source": [
    "mean_df = sample_df.groupby(\"stack\")[['stack', 'neg', 'pos','compound']].mean().reset_index()\n",
    "mean_df.sort_values(by='compound', ascending = True).head(10)"
   ]
  },
  {
   "cell_type": "code",
   "execution_count": 7,
   "metadata": {},
   "outputs": [
    {
     "name": "stdout",
     "output_type": "stream",
     "text": [
      "Stacks with the highest variance\n",
      "['skeptics', 'christianity', 'rpg', 'law', 'moderators', 'hermeneutics', 'politics', 'history', 'philosophy', 'buddhism']\n",
      "Stacks with the lowest variance\n",
      "['homebrew', 'opendata', 'portuguese', 'hardwarerecs', 'computergraphics', 'softwarerecs', 'windowsphone', 'materials', 'ukrainian', 'rus']\n"
     ]
    }
   ],
   "source": [
    "sample_df_grouped = sample_df.groupby(\"stack\")[['compound']].agg(['mean', 'median', 'var'])\n",
    "sample_df_sorted_var = sample_df_grouped.droplevel(0, axis=1).sort_values(by='var', ascending = True)\n",
    "\n",
    "#List of stack names with top 10 var in post sentiment \n",
    "top_var_stacks = list(sample_df_sorted_var.sort_values(by='var', ascending = False).head(10).index)\n",
    "bottom_var_stacks = list(sample_df_sorted_var.sort_values(by='var', ascending = False).tail(10).index)\n",
    "\n",
    "#DataFrame with all posts from each of the top 10 var stacks \n",
    "top_var_stack_posts = sample_df[sample_df['stack'].isin(top_var_stacks)].copy()\n",
    "top_var_stack_posts.rename(columns = {'compound':'Sentiment','stack':'Stack'},inplace=True)\n",
    "\n",
    "bottom_var_stack_posts = sample_df[sample_df['stack'].isin(bottom_var_stacks)].copy()\n",
    "bottom_var_stack_posts.rename(columns = {'compound':'Sentiment','stack':'Stack'},inplace=True)\n",
    "print('Stacks with the highest variance')\n",
    "print(top_var_stacks)\n",
    "print('Stacks with the lowest variance')\n",
    "print(bottom_var_stacks)"
   ]
  },
  {
   "cell_type": "markdown",
   "metadata": {},
   "source": [
    "## Visualizations\n",
    "\n",
    "We decided to do some visualizations to compare the distribution of these groups using an ordered bar chart, boxplots and relative frequency distribution charts. \n",
    "\n",
    "In the ordered bar chart, we can see the full range of mean post sentiments across the different stacks. The lowest having a score around -.2 while the highest is around .6. Two interesting points from this chart is that many of the low sentiment stacks are about languages like Portuguese or Spanish and that there is a clear overall bias towards positive sentiment. The former either indicates that the Vader analyser biases posts with non-English words downward or that people learning languages are having a really hard time. The latter could be an artifact of bias in the Vader analyzer or, more optimistically, people on stack exchange are generally very positive people.\n",
    "\n",
    "The boxplots confirmed the groups had vastly different variances with the high variance stacks having interquartile ranges over 1 unit wide while the low variance interquartile ranges were around half a unit wide. \n",
    "\n",
    "The relative frequency distributions answered our intermediate question about whether high variance stacks would have bimodal distributions or just be wide normal distributions. Interestingly, we can see a common characteristic where there is a larger, highly positive group of posts and then a smaller but highly negative group. This could potentially be story of mostly positive groups with some negtive trolls or the stack could be about contentious topics where there are postive and negative takes in unequal proportions. \n"
   ]
  },
  {
   "cell_type": "code",
   "execution_count": 14,
   "metadata": {},
   "outputs": [
    {
     "data": {
      "application/vnd.plotly.v1+json": {
       "config": {
        "plotlyServerURL": "https://plot.ly"
       },
       "data": [
        {
         "alignmentgroup": "True",
         "hovertemplate": "stack=%{x}<br>compound=%{y}<extra></extra>",
         "legendgroup": "",
         "marker": {
          "color": "#636efa",
          "pattern": {
           "shape": ""
          }
         },
         "name": "",
         "offsetgroup": "",
         "orientation": "v",
         "showlegend": false,
         "textposition": "auto",
         "type": "bar",
         "x": [
          "portuguese",
          "german",
          "scifi",
          "rus",
          "ukrainian",
          "skeptics",
          "italian",
          "law",
          "french",
          "spanish",
          "history",
          "movies",
          "tezos",
          "substrate",
          "monero",
          "gaming",
          "rpg",
          "mechanics",
          "anime",
          "bitcoin",
          "aviation",
          "unix",
          "health",
          "android",
          "windowsphone",
          "elementaryos",
          "judaism",
          "russian",
          "arduino",
          "tor",
          "esperanto",
          "literature",
          "solana",
          "math",
          "patents",
          "space",
          "diy",
          "politics",
          "raspberrypi",
          "philosophy",
          "chemistry",
          "tex",
          "genealogy",
          "christianity",
          "boardgames",
          "japanese",
          "english",
          "chinese",
          "mythology",
          "engineering",
          "martialarts",
          "sqa",
          "civicrm",
          "emacs",
          "puzzling",
          "physics",
          "iota",
          "lifehacks",
          "networkengineering",
          "buddhism",
          "outdoors",
          "apple",
          "eosio",
          "cs",
          "cooking",
          "islam",
          "biology",
          "gis",
          "magento",
          "drones",
          "bricks",
          "vi",
          "security",
          "sports",
          "blender",
          "worldbuilding",
          "ethereum",
          "ham",
          "ell",
          "electronics",
          "bicycles",
          "latin",
          "korean",
          "musicfans",
          "hermeneutics",
          "reverseengineering",
          "quantumcomputing",
          "stellar",
          "cstheory",
          "webapps",
          "gardening",
          "tridion",
          "crypto",
          "travel",
          "meta",
          "opendata",
          "dsp",
          "expressionengine",
          "moderators",
          "expatriates",
          "vegetarianism",
          "coffee",
          "hsm",
          "devops",
          "or",
          "sitecore",
          "cardano",
          "salesforce",
          "chess",
          "bioinformatics",
          "3dprinting",
          "linguistics",
          "earthscience",
          "iot",
          "ebooks",
          "conlang",
          "astronomy",
          "craftcms",
          "retrocomputing",
          "wordpress",
          "datascience",
          "stats",
          "cogsci",
          "bioacoustics",
          "academia",
          "woodworking",
          "pm",
          "hinduism",
          "parenting",
          "proofassistants",
          "softwareengineering",
          "gamedev",
          "dba",
          "avp",
          "sound",
          "writers",
          "languagelearning",
          "workplace",
          "ai",
          "beer",
          "mathematica",
          "webmasters",
          "matheducators",
          "crafts",
          "pets",
          "sustainability",
          "sharepoint",
          "economics",
          "joomla",
          "robotics",
          "graphicdesign",
          "opensource",
          "quant",
          "scicomp",
          "hardwarerecs",
          "interpersonal",
          "homebrew",
          "materials",
          "music",
          "fitness",
          "ux",
          "freelancing",
          "photo",
          "money",
          "poker",
          "computergraphics",
          "softwarerecs",
          "cseducators"
         ],
         "xaxis": "x",
         "y": [
          -0.20197700000000002,
          -0.113749,
          -0.11191000000000001,
          0.01653,
          0.019794,
          0.027052999999999997,
          0.029591000000000003,
          0.031481,
          0.040094000000000005,
          0.055214,
          0.064897,
          0.074616,
          0.07543699999999999,
          0.085526,
          0.087774,
          0.09319,
          0.093539,
          0.112888,
          0.114643,
          0.126968,
          0.129988,
          0.13045,
          0.137005,
          0.15216200000000002,
          0.154445,
          0.162883,
          0.16577000000000003,
          0.174375,
          0.177253,
          0.186683,
          0.19682300000000003,
          0.19980599999999998,
          0.20594400000000002,
          0.208141,
          0.214241,
          0.216738,
          0.21868200000000002,
          0.22040500000000002,
          0.220747,
          0.22770900000000002,
          0.232181,
          0.233755,
          0.23553999999999997,
          0.236309,
          0.236351,
          0.236529,
          0.24073999999999998,
          0.242057,
          0.24421800000000002,
          0.245076,
          0.24586200000000002,
          0.24633300000000002,
          0.246943,
          0.248231,
          0.250969,
          0.251191,
          0.254036,
          0.257175,
          0.257289,
          0.257441,
          0.259341,
          0.26184799999999997,
          0.262967,
          0.265341,
          0.26684,
          0.26759499999999997,
          0.269332,
          0.270402,
          0.273329,
          0.277012,
          0.27825500000000003,
          0.278353,
          0.280418,
          0.285138,
          0.28707499999999997,
          0.28836100000000003,
          0.290904,
          0.295406,
          0.295522,
          0.297503,
          0.298047,
          0.302159,
          0.304453,
          0.30715699999999996,
          0.30719,
          0.307392,
          0.308401,
          0.308937,
          0.310886,
          0.311975,
          0.313726,
          0.315641,
          0.318536,
          0.31867999999999996,
          0.323486,
          0.32618600000000003,
          0.327637,
          0.33533799999999997,
          0.33791499999999997,
          0.339811,
          0.340211,
          0.34287,
          0.34592399999999995,
          0.346348,
          0.347603,
          0.34848100000000004,
          0.35096299999999997,
          0.35960299999999995,
          0.360376,
          0.36094299999999996,
          0.36320300000000005,
          0.368662,
          0.370242,
          0.37444299999999997,
          0.378065,
          0.38009,
          0.38522199999999995,
          0.386314,
          0.38671999999999995,
          0.387838,
          0.38813200000000003,
          0.393148,
          0.395976,
          0.398026,
          0.399328,
          0.400682,
          0.40710599999999997,
          0.40738300000000005,
          0.408172,
          0.41375100000000004,
          0.415693,
          0.41814700000000005,
          0.41961,
          0.420459,
          0.422519,
          0.42404899999999995,
          0.42688000000000004,
          0.43115000000000003,
          0.434174,
          0.435823,
          0.444076,
          0.446548,
          0.452125,
          0.458198,
          0.463943,
          0.46719299999999997,
          0.467939,
          0.474736,
          0.474745,
          0.478179,
          0.47889699999999996,
          0.484178,
          0.486528,
          0.490642,
          0.49245399999999995,
          0.5014500000000001,
          0.502989,
          0.521995,
          0.528752,
          0.537068,
          0.54598,
          0.5479269999999999,
          0.551933,
          0.556727,
          0.5587610000000001,
          0.60376,
          0.620246,
          0.626255
         ],
         "yaxis": "y"
        }
       ],
       "layout": {
        "autosize": false,
        "barmode": "relative",
        "height": 600,
        "legend": {
         "tracegroupgap": 0
        },
        "margin": {
         "t": 60
        },
        "template": {
         "data": {
          "bar": [
           {
            "error_x": {
             "color": "#2a3f5f"
            },
            "error_y": {
             "color": "#2a3f5f"
            },
            "marker": {
             "line": {
              "color": "#E5ECF6",
              "width": 0.5
             },
             "pattern": {
              "fillmode": "overlay",
              "size": 10,
              "solidity": 0.2
             }
            },
            "type": "bar"
           }
          ],
          "barpolar": [
           {
            "marker": {
             "line": {
              "color": "#E5ECF6",
              "width": 0.5
             },
             "pattern": {
              "fillmode": "overlay",
              "size": 10,
              "solidity": 0.2
             }
            },
            "type": "barpolar"
           }
          ],
          "carpet": [
           {
            "aaxis": {
             "endlinecolor": "#2a3f5f",
             "gridcolor": "white",
             "linecolor": "white",
             "minorgridcolor": "white",
             "startlinecolor": "#2a3f5f"
            },
            "baxis": {
             "endlinecolor": "#2a3f5f",
             "gridcolor": "white",
             "linecolor": "white",
             "minorgridcolor": "white",
             "startlinecolor": "#2a3f5f"
            },
            "type": "carpet"
           }
          ],
          "choropleth": [
           {
            "colorbar": {
             "outlinewidth": 0,
             "ticks": ""
            },
            "type": "choropleth"
           }
          ],
          "contour": [
           {
            "colorbar": {
             "outlinewidth": 0,
             "ticks": ""
            },
            "colorscale": [
             [
              0,
              "#0d0887"
             ],
             [
              0.1111111111111111,
              "#46039f"
             ],
             [
              0.2222222222222222,
              "#7201a8"
             ],
             [
              0.3333333333333333,
              "#9c179e"
             ],
             [
              0.4444444444444444,
              "#bd3786"
             ],
             [
              0.5555555555555556,
              "#d8576b"
             ],
             [
              0.6666666666666666,
              "#ed7953"
             ],
             [
              0.7777777777777778,
              "#fb9f3a"
             ],
             [
              0.8888888888888888,
              "#fdca26"
             ],
             [
              1,
              "#f0f921"
             ]
            ],
            "type": "contour"
           }
          ],
          "contourcarpet": [
           {
            "colorbar": {
             "outlinewidth": 0,
             "ticks": ""
            },
            "type": "contourcarpet"
           }
          ],
          "heatmap": [
           {
            "colorbar": {
             "outlinewidth": 0,
             "ticks": ""
            },
            "colorscale": [
             [
              0,
              "#0d0887"
             ],
             [
              0.1111111111111111,
              "#46039f"
             ],
             [
              0.2222222222222222,
              "#7201a8"
             ],
             [
              0.3333333333333333,
              "#9c179e"
             ],
             [
              0.4444444444444444,
              "#bd3786"
             ],
             [
              0.5555555555555556,
              "#d8576b"
             ],
             [
              0.6666666666666666,
              "#ed7953"
             ],
             [
              0.7777777777777778,
              "#fb9f3a"
             ],
             [
              0.8888888888888888,
              "#fdca26"
             ],
             [
              1,
              "#f0f921"
             ]
            ],
            "type": "heatmap"
           }
          ],
          "heatmapgl": [
           {
            "colorbar": {
             "outlinewidth": 0,
             "ticks": ""
            },
            "colorscale": [
             [
              0,
              "#0d0887"
             ],
             [
              0.1111111111111111,
              "#46039f"
             ],
             [
              0.2222222222222222,
              "#7201a8"
             ],
             [
              0.3333333333333333,
              "#9c179e"
             ],
             [
              0.4444444444444444,
              "#bd3786"
             ],
             [
              0.5555555555555556,
              "#d8576b"
             ],
             [
              0.6666666666666666,
              "#ed7953"
             ],
             [
              0.7777777777777778,
              "#fb9f3a"
             ],
             [
              0.8888888888888888,
              "#fdca26"
             ],
             [
              1,
              "#f0f921"
             ]
            ],
            "type": "heatmapgl"
           }
          ],
          "histogram": [
           {
            "marker": {
             "pattern": {
              "fillmode": "overlay",
              "size": 10,
              "solidity": 0.2
             }
            },
            "type": "histogram"
           }
          ],
          "histogram2d": [
           {
            "colorbar": {
             "outlinewidth": 0,
             "ticks": ""
            },
            "colorscale": [
             [
              0,
              "#0d0887"
             ],
             [
              0.1111111111111111,
              "#46039f"
             ],
             [
              0.2222222222222222,
              "#7201a8"
             ],
             [
              0.3333333333333333,
              "#9c179e"
             ],
             [
              0.4444444444444444,
              "#bd3786"
             ],
             [
              0.5555555555555556,
              "#d8576b"
             ],
             [
              0.6666666666666666,
              "#ed7953"
             ],
             [
              0.7777777777777778,
              "#fb9f3a"
             ],
             [
              0.8888888888888888,
              "#fdca26"
             ],
             [
              1,
              "#f0f921"
             ]
            ],
            "type": "histogram2d"
           }
          ],
          "histogram2dcontour": [
           {
            "colorbar": {
             "outlinewidth": 0,
             "ticks": ""
            },
            "colorscale": [
             [
              0,
              "#0d0887"
             ],
             [
              0.1111111111111111,
              "#46039f"
             ],
             [
              0.2222222222222222,
              "#7201a8"
             ],
             [
              0.3333333333333333,
              "#9c179e"
             ],
             [
              0.4444444444444444,
              "#bd3786"
             ],
             [
              0.5555555555555556,
              "#d8576b"
             ],
             [
              0.6666666666666666,
              "#ed7953"
             ],
             [
              0.7777777777777778,
              "#fb9f3a"
             ],
             [
              0.8888888888888888,
              "#fdca26"
             ],
             [
              1,
              "#f0f921"
             ]
            ],
            "type": "histogram2dcontour"
           }
          ],
          "mesh3d": [
           {
            "colorbar": {
             "outlinewidth": 0,
             "ticks": ""
            },
            "type": "mesh3d"
           }
          ],
          "parcoords": [
           {
            "line": {
             "colorbar": {
              "outlinewidth": 0,
              "ticks": ""
             }
            },
            "type": "parcoords"
           }
          ],
          "pie": [
           {
            "automargin": true,
            "type": "pie"
           }
          ],
          "scatter": [
           {
            "fillpattern": {
             "fillmode": "overlay",
             "size": 10,
             "solidity": 0.2
            },
            "type": "scatter"
           }
          ],
          "scatter3d": [
           {
            "line": {
             "colorbar": {
              "outlinewidth": 0,
              "ticks": ""
             }
            },
            "marker": {
             "colorbar": {
              "outlinewidth": 0,
              "ticks": ""
             }
            },
            "type": "scatter3d"
           }
          ],
          "scattercarpet": [
           {
            "marker": {
             "colorbar": {
              "outlinewidth": 0,
              "ticks": ""
             }
            },
            "type": "scattercarpet"
           }
          ],
          "scattergeo": [
           {
            "marker": {
             "colorbar": {
              "outlinewidth": 0,
              "ticks": ""
             }
            },
            "type": "scattergeo"
           }
          ],
          "scattergl": [
           {
            "marker": {
             "colorbar": {
              "outlinewidth": 0,
              "ticks": ""
             }
            },
            "type": "scattergl"
           }
          ],
          "scattermapbox": [
           {
            "marker": {
             "colorbar": {
              "outlinewidth": 0,
              "ticks": ""
             }
            },
            "type": "scattermapbox"
           }
          ],
          "scatterpolar": [
           {
            "marker": {
             "colorbar": {
              "outlinewidth": 0,
              "ticks": ""
             }
            },
            "type": "scatterpolar"
           }
          ],
          "scatterpolargl": [
           {
            "marker": {
             "colorbar": {
              "outlinewidth": 0,
              "ticks": ""
             }
            },
            "type": "scatterpolargl"
           }
          ],
          "scatterternary": [
           {
            "marker": {
             "colorbar": {
              "outlinewidth": 0,
              "ticks": ""
             }
            },
            "type": "scatterternary"
           }
          ],
          "surface": [
           {
            "colorbar": {
             "outlinewidth": 0,
             "ticks": ""
            },
            "colorscale": [
             [
              0,
              "#0d0887"
             ],
             [
              0.1111111111111111,
              "#46039f"
             ],
             [
              0.2222222222222222,
              "#7201a8"
             ],
             [
              0.3333333333333333,
              "#9c179e"
             ],
             [
              0.4444444444444444,
              "#bd3786"
             ],
             [
              0.5555555555555556,
              "#d8576b"
             ],
             [
              0.6666666666666666,
              "#ed7953"
             ],
             [
              0.7777777777777778,
              "#fb9f3a"
             ],
             [
              0.8888888888888888,
              "#fdca26"
             ],
             [
              1,
              "#f0f921"
             ]
            ],
            "type": "surface"
           }
          ],
          "table": [
           {
            "cells": {
             "fill": {
              "color": "#EBF0F8"
             },
             "line": {
              "color": "white"
             }
            },
            "header": {
             "fill": {
              "color": "#C8D4E3"
             },
             "line": {
              "color": "white"
             }
            },
            "type": "table"
           }
          ]
         },
         "layout": {
          "annotationdefaults": {
           "arrowcolor": "#2a3f5f",
           "arrowhead": 0,
           "arrowwidth": 1
          },
          "autotypenumbers": "strict",
          "coloraxis": {
           "colorbar": {
            "outlinewidth": 0,
            "ticks": ""
           }
          },
          "colorscale": {
           "diverging": [
            [
             0,
             "#8e0152"
            ],
            [
             0.1,
             "#c51b7d"
            ],
            [
             0.2,
             "#de77ae"
            ],
            [
             0.3,
             "#f1b6da"
            ],
            [
             0.4,
             "#fde0ef"
            ],
            [
             0.5,
             "#f7f7f7"
            ],
            [
             0.6,
             "#e6f5d0"
            ],
            [
             0.7,
             "#b8e186"
            ],
            [
             0.8,
             "#7fbc41"
            ],
            [
             0.9,
             "#4d9221"
            ],
            [
             1,
             "#276419"
            ]
           ],
           "sequential": [
            [
             0,
             "#0d0887"
            ],
            [
             0.1111111111111111,
             "#46039f"
            ],
            [
             0.2222222222222222,
             "#7201a8"
            ],
            [
             0.3333333333333333,
             "#9c179e"
            ],
            [
             0.4444444444444444,
             "#bd3786"
            ],
            [
             0.5555555555555556,
             "#d8576b"
            ],
            [
             0.6666666666666666,
             "#ed7953"
            ],
            [
             0.7777777777777778,
             "#fb9f3a"
            ],
            [
             0.8888888888888888,
             "#fdca26"
            ],
            [
             1,
             "#f0f921"
            ]
           ],
           "sequentialminus": [
            [
             0,
             "#0d0887"
            ],
            [
             0.1111111111111111,
             "#46039f"
            ],
            [
             0.2222222222222222,
             "#7201a8"
            ],
            [
             0.3333333333333333,
             "#9c179e"
            ],
            [
             0.4444444444444444,
             "#bd3786"
            ],
            [
             0.5555555555555556,
             "#d8576b"
            ],
            [
             0.6666666666666666,
             "#ed7953"
            ],
            [
             0.7777777777777778,
             "#fb9f3a"
            ],
            [
             0.8888888888888888,
             "#fdca26"
            ],
            [
             1,
             "#f0f921"
            ]
           ]
          },
          "colorway": [
           "#636efa",
           "#EF553B",
           "#00cc96",
           "#ab63fa",
           "#FFA15A",
           "#19d3f3",
           "#FF6692",
           "#B6E880",
           "#FF97FF",
           "#FECB52"
          ],
          "font": {
           "color": "#2a3f5f"
          },
          "geo": {
           "bgcolor": "white",
           "lakecolor": "white",
           "landcolor": "#E5ECF6",
           "showlakes": true,
           "showland": true,
           "subunitcolor": "white"
          },
          "hoverlabel": {
           "align": "left"
          },
          "hovermode": "closest",
          "mapbox": {
           "style": "light"
          },
          "paper_bgcolor": "white",
          "plot_bgcolor": "#E5ECF6",
          "polar": {
           "angularaxis": {
            "gridcolor": "white",
            "linecolor": "white",
            "ticks": ""
           },
           "bgcolor": "#E5ECF6",
           "radialaxis": {
            "gridcolor": "white",
            "linecolor": "white",
            "ticks": ""
           }
          },
          "scene": {
           "xaxis": {
            "backgroundcolor": "#E5ECF6",
            "gridcolor": "white",
            "gridwidth": 2,
            "linecolor": "white",
            "showbackground": true,
            "ticks": "",
            "zerolinecolor": "white"
           },
           "yaxis": {
            "backgroundcolor": "#E5ECF6",
            "gridcolor": "white",
            "gridwidth": 2,
            "linecolor": "white",
            "showbackground": true,
            "ticks": "",
            "zerolinecolor": "white"
           },
           "zaxis": {
            "backgroundcolor": "#E5ECF6",
            "gridcolor": "white",
            "gridwidth": 2,
            "linecolor": "white",
            "showbackground": true,
            "ticks": "",
            "zerolinecolor": "white"
           }
          },
          "shapedefaults": {
           "line": {
            "color": "#2a3f5f"
           }
          },
          "ternary": {
           "aaxis": {
            "gridcolor": "white",
            "linecolor": "white",
            "ticks": ""
           },
           "baxis": {
            "gridcolor": "white",
            "linecolor": "white",
            "ticks": ""
           },
           "bgcolor": "#E5ECF6",
           "caxis": {
            "gridcolor": "white",
            "linecolor": "white",
            "ticks": ""
           }
          },
          "title": {
           "x": 0.05
          },
          "xaxis": {
           "automargin": true,
           "gridcolor": "white",
           "linecolor": "white",
           "ticks": "",
           "title": {
            "standoff": 15
           },
           "zerolinecolor": "white",
           "zerolinewidth": 2
          },
          "yaxis": {
           "automargin": true,
           "gridcolor": "white",
           "linecolor": "white",
           "ticks": "",
           "title": {
            "standoff": 15
           },
           "zerolinecolor": "white",
           "zerolinewidth": 2
          }
         }
        },
        "width": 1200,
        "xaxis": {
         "anchor": "y",
         "domain": [
          0,
          1
         ],
         "title": {
          "text": "Stack Name"
         }
        },
        "yaxis": {
         "anchor": "x",
         "domain": [
          0,
          1
         ],
         "title": {
          "text": "Compound Score"
         }
        }
       }
      }
     },
     "metadata": {},
     "output_type": "display_data"
    }
   ],
   "source": [
    "fig = px.bar(mean_df.sort_values('compound'), x='stack', y='compound')\n",
    "\n",
    "fig.update_layout(\n",
    "    autosize=False,\n",
    "    width=1200,\n",
    "    height=600,\n",
    "    xaxis_title=\"Stack Name\",\n",
    "    yaxis_title=\"Compound Score\",\n",
    ")\n",
    "\n",
    "fig.show()"
   ]
  },
  {
   "cell_type": "code",
   "execution_count": 9,
   "metadata": {},
   "outputs": [
    {
     "data": {
      "image/png": "[encoded data removed]",
      "text/plain": [
       "<Figure size 1500x500 with 2 Axes>"
      ]
     },
     "metadata": {},
     "output_type": "display_data"
    }
   ],
   "source": [
    "fig, axes = plt.subplots(1, 2)\n",
    "fig.set_figwidth(15)\n",
    "fig.set_figheight(5)\n",
    "fig.suptitle('Boxplots of Sentiment')\n",
    "\n",
    "sns.set(font_scale=0.75)\n",
    "\n",
    "sns.boxplot(x=top_var_stack_posts['Stack'], y=top_var_stack_posts['Sentiment'], ax=axes[0]).set(title=\"High Variance Stacks\")\n",
    "axes[0].xaxis.set_tick_params(rotation=-45)\n",
    "sns.boxplot(x=bottom_var_stack_posts['Stack'], y=bottom_var_stack_posts['Sentiment'], ax=axes[1]).set(title=\"Low Variance Stacks\")\n",
    "axes[1].xaxis.set_tick_params(rotation=-45)\n",
    "\n",
    "plt.show()"
   ]
  },
  {
   "cell_type": "code",
   "execution_count": 10,
   "metadata": {},
   "outputs": [
    {
     "data": {
      "text/plain": [
       "[Text(0.5, 1.0, 'Low Variance Stacks')]"
      ]
     },
     "execution_count": 10,
     "metadata": {},
     "output_type": "execute_result"
    },
    {
     "data": {
      "image/png": "[encoded data removed]",
      "text/plain": [
       "<Figure size 1500x500 with 2 Axes>"
      ]
     },
     "metadata": {},
     "output_type": "display_data"
    }
   ],
   "source": [
    "fig, axes = plt.subplots(1, 2)\n",
    "fig.set_figwidth(15)\n",
    "fig.set_figheight(5)\n",
    "fig.suptitle('Relative Frequency Distributions of Post Sentiment')\n",
    "\n",
    "sns.kdeplot(data=top_var_stack_posts, x='Sentiment', hue='Stack', legend=True,\n",
    "            cut=0, warn_singular=False, bw_adjust=1, ax=axes[0]).set(title='High Variance Stacks')\n",
    "\n",
    "sns.kdeplot(data=bottom_var_stack_posts, x='Sentiment', hue='Stack', legend=True,\n",
    "            cut=0, warn_singular=False, bw_adjust=1, ax=axes[1]).set(title='Low Variance Stacks')"
   ]
  },
  {
   "cell_type": "markdown",
   "metadata": {},
   "source": [
    "## Conclusions\n",
    "\n",
    "We've found an answer to our original research question, *are the distributions of post sentiment in different stack exchanges distinctly different from each other, and if so, what characterizes these distinctions?* In particular, along the dimension of post sentiment variance, high variance posts generally have a bimodal distribution that indicates some divergence in either the members or post types. An interesting extension could be whether these distinct groups of posts correlates with distinct groups of users. "
   ]
  }
 ],
 "metadata": {
  "kernelspec": {
   "display_name": "Python 3.9.13 ('fsd22env': venv)",
   "language": "python",
   "name": "python3"
  },
  "language_info": {
   "codemirror_mode": {
    "name": "ipython",
    "version": 3
   },
   "file_extension": ".py",
   "mimetype": "text/x-python",
   "name": "python",
   "nbconvert_exporter": "python",
   "pygments_lexer": "ipython3",
   "version": "3.9.13"
  },
  "orig_nbformat": 4,
  "vscode": {
   "interpreter": {
    "hash": "72ab57b0b5f2fd64aef2c7b60b3862b1a450b7cb33941b7430bf767e797b1ae3"
   }
  }
 },
 "nbformat": 4,
 "nbformat_minor": 2
}
